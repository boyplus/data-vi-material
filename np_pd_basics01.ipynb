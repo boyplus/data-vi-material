{
  "cells": [
    {
      "cell_type": "markdown",
      "source": [
        "CSC536: Data Viz. Fundamentals\n",
        "\n",
        "SIT@KMUTT\n",
        "\n",
        "2023\n",
        "\n",
        "# Numpy and Pandas\n",
        "NumPy was first released in 2006\n",
        "- A library of Python for scientific computing\n",
        "for the calculation of multidimensional arrays and large arrays\n",
        "known as ndarray.\n",
        "- When we have to work on Tabular data, we prefer the pandas module. When we have to work on Numerical data, we prefer the numpy module."
      ],
      "metadata": {
        "id": "RJ4WVfIxg4Os"
      }
    },
    {
      "cell_type": "markdown",
      "source": [
        "Knowledge of NumPy proves to be crucial for anyone who wants to take on the world of the data analysis.\n",
        "\n",
        "Ref: Python data analytics by Fabio Nelli, Apress, 2015"
      ],
      "metadata": {
        "id": "Z21p-fkKuGnN"
      }
    },
    {
      "cell_type": "code",
      "execution_count": 1,
      "metadata": {
        "colab": {
          "base_uri": "https://localhost:8080/"
        },
        "id": "Lb8MNzvjg-D6",
        "outputId": "d28e199e-729d-413c-c9fe-59006699d5e6"
      },
      "outputs": [
        {
          "output_type": "stream",
          "name": "stdout",
          "text": [
            "[1, 2, 3, 'apple']\n",
            "<class 'list'>\n",
            "barray:  ['1' '2' '3' 'apple']\n",
            "dtype:  <U21\n",
            "[ 1.   2.  35.5]\n",
            "dtype:  float64\n"
          ]
        }
      ],
      "source": [
        "\n",
        "import numpy as np\n",
        "\n",
        "bb = [1,2,3, 'apple'] # list\n",
        "print(bb)\n",
        "print(type(bb))\n",
        "barray = np.array(bb)\n",
        "print(\"barray: \", barray)\n",
        "print(\"dtype: \", barray.dtype)\n",
        "\n",
        "tt = (1,2,35.5)  # tuple\n",
        "tarray = np.array(tt)\n",
        "print(tarray)\n",
        "print(\"dtype: \", tarray.dtype)\n"
      ]
    },
    {
      "cell_type": "code",
      "source": [
        "a = np.array([1,2,3], dtype= np.int8)  # 1D array\n",
        "print(a)\n",
        "print(\"type: \", type(a))\n",
        "print(\"dtype: \", a.dtype) # data type of the elements\n",
        "\n",
        "# get a number of dimension(s) (or axes)\n",
        "print(\"dim: \", a.ndim)\n",
        "# get a length of the array in total\n",
        "print(\"size/length: \", a.size)\n",
        "# get a shape of it (size of each dimension)\n",
        "print(\"shape: \", a.shape)\n"
      ],
      "metadata": {
        "colab": {
          "base_uri": "https://localhost:8080/"
        },
        "id": "DFk9xlkCKCH3",
        "outputId": "48983aa5-a6bc-410f-e528-9f786890f63a"
      },
      "execution_count": 2,
      "outputs": [
        {
          "output_type": "stream",
          "name": "stdout",
          "text": [
            "[1 2 3]\n",
            "type:  <class 'numpy.ndarray'>\n",
            "dtype:  int8\n",
            "dim:  1\n",
            "size/length:  3\n",
            "shape:  (3,)\n"
          ]
        }
      ]
    },
    {
      "cell_type": "code",
      "source": [
        "# tuple\n",
        "tup = (1,2,3)\n",
        "print(tup)\n",
        "print(\"type: \", type(tup))\n",
        "\n",
        "print(type((3)))  # integer\n",
        "print(type((3,))) # tuple; how we represent a three-element tuple\n"
      ],
      "metadata": {
        "colab": {
          "base_uri": "https://localhost:8080/"
        },
        "id": "Rrs6eQUIiNW8",
        "outputId": "a9afbfb5-da2b-471d-c031-7c3b14b82ff2"
      },
      "execution_count": 3,
      "outputs": [
        {
          "output_type": "stream",
          "name": "stdout",
          "text": [
            "(1, 2, 3)\n",
            "type:  <class 'tuple'>\n",
            "<class 'int'>\n",
            "<class 'tuple'>\n"
          ]
        }
      ]
    },
    {
      "cell_type": "code",
      "source": [
        "\n",
        "a1 = np.ones((3,), dtype= np.int8)\n",
        "print(\"1d array: \")\n",
        "print(a1)\n",
        "print(type(a1))\n",
        "print(a1.shape)\n",
        "\n",
        "# Remark: Difference between the above is whether you have a 1D array (3,) \n",
        "# or a 2D array where one dimension is of size 1, being (3,1)\n",
        "print('\\n2d array: ')\n",
        "a2d = np.ones((1, 3))\n",
        "print(a2d)\n",
        "print(a2d.shape)"
      ],
      "metadata": {
        "colab": {
          "base_uri": "https://localhost:8080/"
        },
        "id": "SG0F8TwNgMrE",
        "outputId": "20995bcf-83c0-4b6d-ee30-486135f42813"
      },
      "execution_count": 5,
      "outputs": [
        {
          "output_type": "stream",
          "name": "stdout",
          "text": [
            "1d array: \n",
            "[1 1 1]\n",
            "<class 'numpy.ndarray'>\n",
            "(3,)\n",
            "\n",
            "2d array: \n",
            "[[1. 1. 1.]]\n",
            "(1, 3)\n"
          ]
        }
      ]
    },
    {
      "cell_type": "code",
      "execution_count": 6,
      "metadata": {
        "colab": {
          "base_uri": "https://localhost:8080/"
        },
        "id": "7kIY8iCfg-D9",
        "outputId": "e5cb39c8-e32e-4242-a2e8-3ac41e49ecb3"
      },
      "outputs": [
        {
          "output_type": "stream",
          "name": "stdout",
          "text": [
            "[['1' '2' '3']\n",
            " ['dog' 'cat' 'ant and dog and cat and cat and dog']]\n",
            "type:  <class 'numpy.ndarray'>\n",
            "dtype:  <U35\n",
            "b[1,2] =  ant and dog and cat and cat and dog\n",
            "dim:  2\n",
            "size:  6\n",
            "shape:  (2, 3)\n"
          ]
        }
      ],
      "source": [
        "# let's make a 2D array\n",
        "b = np.array([[1,2,3],['dog','cat','ant and dog and cat and cat and dog']])\n",
        "print(b)\n",
        "print(\"type: \", type(b))\n",
        "print(\"dtype: \", b.dtype)  # in this case, getting <U35 means little endian unicode of 35 characters\n",
        "print(\"b[1,2] = \", b[1,2])\n",
        "print(\"dim: \", b.ndim)\n",
        "print(\"size: \", b.size)\n",
        "print(\"shape: \", b.shape)\n"
      ]
    },
    {
      "cell_type": "code",
      "execution_count": 7,
      "metadata": {
        "colab": {
          "base_uri": "https://localhost:8080/"
        },
        "id": "WsIaKPYMg-D-",
        "outputId": "d844f4b7-1410-4925-f6ae-cc1af7b5e8eb"
      },
      "outputs": [
        {
          "output_type": "execute_result",
          "data": {
            "text/plain": [
              "array([[1, 1, 1, 1, 1],\n",
              "       [1, 1, 1, 1, 1],\n",
              "       [1, 1, 1, 1, 1]], dtype=int32)"
            ]
          },
          "metadata": {},
          "execution_count": 7
        }
      ],
      "source": [
        "# create an array of ones\n",
        "one = np.ones((3,5), dtype= np.int32)  # 3 rows by 5 columns\n",
        "one\n"
      ]
    },
    {
      "cell_type": "code",
      "source": [
        "# fill array with a given value\n",
        "a = np.full((2,4), 3.6)\n",
        "print(a)\n",
        "print(\"Default data type: \", a.dtype)"
      ],
      "metadata": {
        "colab": {
          "base_uri": "https://localhost:8080/"
        },
        "id": "B8bkuZ38yfmX",
        "outputId": "f6f2f6c2-4446-474a-dd15-57e731a45b76"
      },
      "execution_count": 9,
      "outputs": [
        {
          "output_type": "stream",
          "name": "stdout",
          "text": [
            "[[3.6 3.6 3.6 3.6]\n",
            " [3.6 3.6 3.6 3.6]]\n",
            "Default data type:  float64\n"
          ]
        }
      ]
    },
    {
      "cell_type": "code",
      "execution_count": 10,
      "metadata": {
        "colab": {
          "base_uri": "https://localhost:8080/"
        },
        "id": "R40o450Jg-EA",
        "outputId": "e2c1b54b-976b-4c8b-e5b0-3bdf2a224da4"
      },
      "outputs": [
        {
          "output_type": "stream",
          "name": "stdout",
          "text": [
            "Default data type:  float64\n"
          ]
        },
        {
          "output_type": "execute_result",
          "data": {
            "text/plain": [
              "array([[0., 0., 0., 0.],\n",
              "       [0., 0., 0., 0.],\n",
              "       [0., 0., 0., 0.]])"
            ]
          },
          "metadata": {},
          "execution_count": 10
        }
      ],
      "source": [
        "# create an array of zeros\n",
        "zr = np.zeros((3,4))\n",
        "print(\"Default data type: \", zr.dtype)\n",
        "zr\n"
      ]
    },
    {
      "cell_type": "code",
      "source": [
        "# Sequence or range\n",
        "r = range(3,12, 2) # from 3 to (12-1), with step = 2\n",
        "for i in r:\n",
        "  print(i, end= \", \")\n",
        "print(\"\\nLength: \", len(r))\n"
      ],
      "metadata": {
        "colab": {
          "base_uri": "https://localhost:8080/"
        },
        "id": "FkezWixOqlsi",
        "outputId": "b907c41e-3399-462d-9ec1-461905f3aa69"
      },
      "execution_count": 15,
      "outputs": [
        {
          "output_type": "stream",
          "name": "stdout",
          "text": [
            "3, 5, 7, 9, 11, \n",
            "Length:  5\n"
          ]
        }
      ]
    },
    {
      "cell_type": "code",
      "execution_count": 17,
      "metadata": {
        "colab": {
          "base_uri": "https://localhost:8080/"
        },
        "id": "WvX-g0iHg-EB",
        "outputId": "276518cd-36e3-41cc-a1b8-f4981074a3a5"
      },
      "outputs": [
        {
          "output_type": "stream",
          "name": "stdout",
          "text": [
            "[0 1 2 3 4 5]\n",
            "1\n",
            "(6,)\n"
          ]
        }
      ],
      "source": [
        "# array of a sequence\n",
        "ar = np.arange(6) # from index 0 to n-1\n",
        "print(ar)\n",
        "print(ar.ndim)\n",
        "print(ar.shape)"
      ]
    },
    {
      "cell_type": "code",
      "execution_count": 22,
      "metadata": {
        "colab": {
          "base_uri": "https://localhost:8080/"
        },
        "id": "m09gts5-g-EC",
        "outputId": "e91df11f-e088-4074-d946-f10c729bc293"
      },
      "outputs": [
        {
          "output_type": "stream",
          "name": "stdout",
          "text": [
            "[ 3  5  7  9 11]\n",
            "<class 'numpy.ndarray'>\n"
          ]
        }
      ],
      "source": [
        "ar = np.arange(3,13,2) # from 3 to 13-1, with step = 2\n",
        "print(ar)\n",
        "print(type(ar))"
      ]
    },
    {
      "cell_type": "code",
      "execution_count": 23,
      "metadata": {
        "id": "ApJe4ZM1g-ED",
        "outputId": "a73dd93d-0e5d-4fa4-9330-3e62acc41d0d",
        "colab": {
          "base_uri": "https://localhost:8080/"
        }
      },
      "outputs": [
        {
          "output_type": "stream",
          "name": "stdout",
          "text": [
            "[[ 1  2  3  4]\n",
            " [ 5  6  7  8]\n",
            " [ 9 10 11 12]\n",
            " [13 14 15 16]\n",
            " [17 18 19 20]]\n",
            "Shape:  (5, 4)\n"
          ]
        }
      ],
      "source": [
        "# a convenient way to reshape an array\n",
        "ar = np.arange(1,21).reshape(5,4)  # 2D array of 5 rows by 4 columns\n",
        "print(ar)\n",
        "print(\"Shape: \", ar.shape)"
      ]
    },
    {
      "cell_type": "code",
      "execution_count": 25,
      "metadata": {
        "id": "M17HHZrwg-EE",
        "outputId": "3551c107-6b93-49a7-b838-282d21ed75e4",
        "colab": {
          "base_uri": "https://localhost:8080/"
        }
      },
      "outputs": [
        {
          "output_type": "stream",
          "name": "stdout",
          "text": [
            "Length:  6\n",
            "[0.66095096 0.08579913 0.55661028 0.76086456 0.78458604 0.32003952]\n",
            "Length:  5\n",
            "[83 54 30 94 28]\n"
          ]
        }
      ],
      "source": [
        "# generate some random numbers\n",
        "rn = np.random.random(6)  # return random floats in the half-open interval [0.0, 1.0).\n",
        "print(\"Length: \", len(rn))\n",
        "print(rn)\n",
        "\n",
        "rni = np.random.randint(low= 10,high= 100, size = 5) # return random integers from low (inclusive) to high (exclusive).\n",
        "print(\"Length: \", len(rni))\n",
        "print(rni)\n"
      ]
    },
    {
      "cell_type": "code",
      "execution_count": 27,
      "metadata": {
        "id": "uKFoWeHVg-EF",
        "outputId": "898012a7-ea36-4b17-8ba3-67d5e4db0ae3",
        "colab": {
          "base_uri": "https://localhost:8080/"
        }
      },
      "outputs": [
        {
          "output_type": "stream",
          "name": "stdout",
          "text": [
            "dim:  2\n",
            "shape:  (3, 3)\n",
            "2D array:\n",
            "[[ 2  3  4]\n",
            " [ 5  6  7]\n",
            " [ 8  9 10]]\n",
            "value at [2,2]=  9\n"
          ]
        }
      ],
      "source": [
        "# We can make an array out of a list, tuple, or a mix of both.\n",
        "# Try to access a given element\n",
        "\n",
        "c = np.array([\n",
        "    (2,3,4),\n",
        "    [5,6,7],\n",
        "    [8,9,10] ])\n",
        "\n",
        "print(\"dim: \", c.ndim)\n",
        "c.size\n",
        "print(\"shape: \", c.shape)\n",
        "print(\"2D array:\")\n",
        "print(c)\n",
        "print(\"value at [2,2]= \", c[2,1])  # a similar access as found in Java's array."
      ]
    },
    {
      "cell_type": "code",
      "execution_count": 35,
      "metadata": {
        "id": "pdI5r2wzg-EH",
        "outputId": "09dc6704-cb18-444e-e2d9-0f29c7562244",
        "colab": {
          "base_uri": "https://localhost:8080/"
        }
      },
      "outputs": [
        {
          "output_type": "stream",
          "name": "stdout",
          "text": [
            "[[[ 1  2]\n",
            "  [ 3  4]]\n",
            "\n",
            " [[ 5  6]\n",
            "  [ 7  8]]\n",
            "\n",
            " [[15 61]\n",
            "  [17 28]]]\n",
            "dim:  3\n",
            "size:  12\n",
            "shape (depth x height x width):  (3, 2, 2)\n",
            "value at [1]= \n",
            " [[5 6]\n",
            " [7 8]] \n",
            "\n",
            "value at [1,1]=  [7 8] \n",
            "\n",
            "value at [0,1,1] =  4 \n",
            "\n"
          ]
        }
      ],
      "source": [
        "# let's make a 3D array\n",
        "# and try to access the elements\n",
        "\n",
        "d = np.array([[[1, 2], [3, 4]], [[5, 6], [7, 8]], [[15, 61], [17, 28]]])\n",
        "print(d)\n",
        "print(\"dim: \", d.ndim)\n",
        "print(\"size: \", d.size) # total elements\n",
        "print(\"shape (depth x height x width): \", d.shape) # for 3D: depth x height x width\n",
        "\n",
        "print(\"value at [1]= \\n\", d[1], '\\n') # use just 1 axis info\n",
        "print(\"value at [1,1]= \", d[1,1], '\\n') # use 2 axes\n",
        "print(\"value at [0,1,1] = \", d[0,1,1], '\\n') # use 3 axes\n"
      ]
    },
    {
      "cell_type": "code",
      "execution_count": 36,
      "metadata": {
        "id": "W-AI4C8xg-EH",
        "outputId": "917edcca-650a-4a75-e51f-01f356ceea58",
        "colab": {
          "base_uri": "https://localhost:8080/"
        }
      },
      "outputs": [
        {
          "output_type": "stream",
          "name": "stdout",
          "text": [
            "1,2,3,4,5,6,7,8,9,\n",
            "1,3,5,7,9,\n"
          ]
        }
      ],
      "source": [
        "# simple range and print\n",
        "a =range(1,10)\n",
        "for i in a:\n",
        "    print(i, end= ',')\n",
        "\n",
        "print() \n",
        "b =range(1,10,2)\n",
        "for i in b:\n",
        "    print(i, \",\", sep= \"\", end= '')\n",
        "print()"
      ]
    },
    {
      "cell_type": "code",
      "execution_count": 37,
      "metadata": {
        "id": "-BObMhsYg-EI",
        "outputId": "9f04f76f-9775-427c-e5f2-01216c08ddd9",
        "colab": {
          "base_uri": "https://localhost:8080/"
        }
      },
      "outputs": [
        {
          "output_type": "stream",
          "name": "stdout",
          "text": [
            "[[1 2 3]\n",
            " [4 5 6]\n",
            " [7 8 9]]\n",
            "6\n"
          ]
        }
      ],
      "source": [
        "# some arithmetic operations on arrays\n",
        "a1 = np.arange(1,10).reshape(3,3)\n",
        "print(a1)\n",
        "print(a1[1,2]) # how to access a specific location"
      ]
    },
    {
      "cell_type": "code",
      "execution_count": 39,
      "metadata": {
        "id": "3P7nvLLrg-EJ",
        "outputId": "6d3bfbb1-896f-45e5-b7c1-c698afa246ff",
        "colab": {
          "base_uri": "https://localhost:8080/"
        }
      },
      "outputs": [
        {
          "output_type": "stream",
          "name": "stdout",
          "text": [
            "[[-5 -4 -3]\n",
            " [-2 -1  0]\n",
            " [ 1  2  3]]\n"
          ]
        }
      ],
      "source": [
        "# element-wise operation; performed one by one\n",
        "a1 -= 3  # a1 = a1 - 3\n",
        "print(a1)"
      ]
    },
    {
      "cell_type": "code",
      "execution_count": 43,
      "metadata": {
        "id": "24EYPIB_g-EJ",
        "outputId": "f0b5c115-27d6-4280-db09-9a192f3400b1",
        "colab": {
          "base_uri": "https://localhost:8080/"
        }
      },
      "outputs": [
        {
          "output_type": "stream",
          "name": "stdout",
          "text": [
            "b1 =\n"
          ]
        },
        {
          "output_type": "execute_result",
          "data": {
            "text/plain": [
              "array([[-3, -2, -1],\n",
              "       [ 0,  1,  2],\n",
              "       [ 3,  4,  5]])"
            ]
          },
          "metadata": {},
          "execution_count": 43
        }
      ],
      "source": [
        "b1 = 2 + a1\n",
        "print(\"b1 =\")\n",
        "b1"
      ]
    },
    {
      "cell_type": "code",
      "execution_count": 44,
      "metadata": {
        "id": "fkzSn7udg-EK",
        "outputId": "ff785a21-1545-4d28-b51e-219792a9c9ba",
        "colab": {
          "base_uri": "https://localhost:8080/"
        }
      },
      "outputs": [
        {
          "output_type": "stream",
          "name": "stdout",
          "text": [
            "[[-15 -12  -9]\n",
            " [ -6  -3   0]\n",
            " [  3   6   9]]\n",
            "\n",
            " a1 =\n",
            "[[-5 -4 -3]\n",
            " [-2 -1  0]\n",
            " [ 1  2  3]]\n"
          ]
        }
      ],
      "source": [
        "print(a1 * 3)\n",
        "print(\"\\n a1 =\")\n",
        "print(a1)"
      ]
    },
    {
      "cell_type": "code",
      "execution_count": 45,
      "metadata": {
        "id": "zeGI6OaLg-EK",
        "outputId": "b2f570cc-c4c4-4307-fb44-e4cfdb8de2b9",
        "colab": {
          "base_uri": "https://localhost:8080/"
        }
      },
      "outputs": [
        {
          "output_type": "execute_result",
          "data": {
            "text/plain": [
              "array([[15,  8,  3],\n",
              "       [ 0, -1,  0],\n",
              "       [ 3,  8, 15]])"
            ]
          },
          "metadata": {},
          "execution_count": 45
        }
      ],
      "source": [
        "# an element-wise operation, but not the matrix/array multiplication here.\n",
        "a1 * b1"
      ]
    },
    {
      "cell_type": "code",
      "execution_count": 47,
      "metadata": {
        "id": "hNqhC40Ag-EL",
        "outputId": "4005f410-8786-4ca6-b97b-3c64c82949fe",
        "colab": {
          "base_uri": "https://localhost:8080/"
        }
      },
      "outputs": [
        {
          "output_type": "stream",
          "name": "stdout",
          "text": [
            "a1: \n",
            "[[-5 -4 -3]\n",
            " [-2 -1  0]\n",
            " [ 1  2  3]]\n",
            "b1: \n",
            "[[-3 -2 -1]\n",
            " [ 0  1  2]\n",
            " [ 3  4  5]]\n",
            "\n",
            "a1 matrix-product b1: \n"
          ]
        },
        {
          "output_type": "execute_result",
          "data": {
            "text/plain": [
              "array([[  6,  -6, -18],\n",
              "       [  6,   3,   0],\n",
              "       [  6,  12,  18]])"
            ]
          },
          "metadata": {},
          "execution_count": 47
        }
      ],
      "source": [
        "# a matrix product; here is our usual matrix multiplication\n",
        "print(\"a1: \")\n",
        "print(a1)\n",
        "print(\"b1: \")\n",
        "print(b1)\n",
        "\n",
        "print(\"\\na1 matrix-product b1: \")\n",
        "np.dot(a1,b1)"
      ]
    },
    {
      "cell_type": "code",
      "execution_count": 50,
      "metadata": {
        "id": "EMA6AH9Zg-EL",
        "outputId": "5c81b867-c07e-43b1-ca99-d93ea3696a38",
        "colab": {
          "base_uri": "https://localhost:8080/"
        }
      },
      "outputs": [
        {
          "output_type": "stream",
          "name": "stdout",
          "text": [
            "[ 1.   3.5  6.   8.5 11.  13.5]\n",
            "1.0\n",
            "13.5\n",
            "4.269562819149833\n"
          ]
        }
      ],
      "source": [
        "# aggregate function; resulting in one final value from many input values\n",
        "dat = np.arange(1,16,2.5)\n",
        "print(dat)\n",
        "\n",
        "print(dat.min())\n",
        "print(dat.max())\n",
        "print(dat.std())\n"
      ]
    },
    {
      "cell_type": "code",
      "execution_count": 52,
      "metadata": {
        "id": "LPesy3xSg-EM",
        "outputId": "b1fd9100-c109-4b94-d8b8-4fc3826ed5fb",
        "colab": {
          "base_uri": "https://localhost:8080/"
        }
      },
      "outputs": [
        {
          "output_type": "stream",
          "name": "stdout",
          "text": [
            "[ 1.   3.5  6.   8.5 11.  13.5]\n",
            "8.5\n",
            "[ 1.  6. 11.]\n",
            "[6.  8.5]\n",
            "[3.5 8.5]\n"
          ]
        }
      ],
      "source": [
        "# array indexing\n",
        "print(dat)\n",
        "# access a given index\n",
        "print(dat[3])\n",
        "\n",
        "# access multiple elements at once, giving the indices in a square bracket\n",
        "print(dat[[0,2,4]])\n",
        "\n",
        "# Slicing is the operation which allows you to extract portions of an array to generate new ones, using slice syntax with a colon :\n",
        "print(dat[2:4])\n",
        "\n",
        "# slicing index, with step\n",
        "print(dat[1:4:2])"
      ]
    },
    {
      "cell_type": "code",
      "execution_count": 53,
      "metadata": {
        "id": "-Bw3bBftg-EM",
        "outputId": "01c546dc-bcd5-4990-b2a3-5c12218d0c46",
        "colab": {
          "base_uri": "https://localhost:8080/"
        }
      },
      "outputs": [
        {
          "output_type": "execute_result",
          "data": {
            "text/plain": [
              "array([[ 0,  1,  2,  3,  4,  5],\n",
              "       [ 6,  7,  8,  9, 10, 11],\n",
              "       [12, 13, 14, 15, 16, 17],\n",
              "       [18, 19, 20, 21, 22, 23],\n",
              "       [24, 25, 26, 27, 28, 29]])"
            ]
          },
          "metadata": {},
          "execution_count": 53
        }
      ],
      "source": [
        "dat = np.arange(30).reshape(5,6)  # 5 rows by 6 columns\n",
        "dat"
      ]
    },
    {
      "cell_type": "code",
      "source": [
        "# access at a given cell; note again that the first row is indexed 0th, so is the first column.\n",
        "print(dat[4,2]) # accessing 4th row, 2nd column"
      ],
      "metadata": {
        "colab": {
          "base_uri": "https://localhost:8080/"
        },
        "id": "v4vdjtIgVZM4",
        "outputId": "b411ef33-8f89-477b-c57d-f1e9dbc6891d"
      },
      "execution_count": 54,
      "outputs": [
        {
          "output_type": "stream",
          "name": "stdout",
          "text": [
            "26\n"
          ]
        }
      ]
    },
    {
      "cell_type": "code",
      "execution_count": 56,
      "metadata": {
        "id": "e8KPOOE7g-EN",
        "outputId": "1faf2110-c38e-40c8-9b37-a2a919a91cd1",
        "colab": {
          "base_uri": "https://localhost:8080/"
        }
      },
      "outputs": [
        {
          "output_type": "stream",
          "name": "stdout",
          "text": [
            "[12 13 14 15 16 17]\n",
            "\n",
            "[12 13 14 15 16 17]\n",
            "\n",
            "[[12 13 14 15 16 17]\n",
            " [18 19 20 21 22 23]]\n"
          ]
        }
      ],
      "source": [
        "# In a two-dimensional matrix, which is represented as rectangular \n",
        "# arrays consisting of rows and columns, that is  [row index, column index]\n",
        "\n",
        "# slicing the array, for 2nd indexed row with all columns; note: 0th index is the first row\n",
        "print(dat[2,]) # all columns\n",
        "print()\n",
        "print(dat[2,:])\n",
        "print()\n",
        "print(dat[2:4,:]) # all columns"
      ]
    },
    {
      "cell_type": "code",
      "execution_count": 57,
      "metadata": {
        "id": "9SdnWfppg-EN",
        "outputId": "096c68ac-0ec4-4bb8-c2b8-f2fb7f573fbe",
        "colab": {
          "base_uri": "https://localhost:8080/"
        }
      },
      "outputs": [
        {
          "output_type": "execute_result",
          "data": {
            "text/plain": [
              "array([ 5, 11, 17, 23, 29])"
            ]
          },
          "metadata": {},
          "execution_count": 57
        }
      ],
      "source": [
        "# slice for all rows of the 5th indexed column; note: 0th indexed is the first column\n",
        "dat[:,5]   # all rows. Note: could not do dat[,5]"
      ]
    },
    {
      "cell_type": "code",
      "execution_count": 68,
      "metadata": {
        "id": "s9OXpzLag-EN",
        "outputId": "18ba85f0-0a5b-4905-9ff4-8b9f8544992b",
        "colab": {
          "base_uri": "https://localhost:8080/"
        }
      },
      "outputs": [
        {
          "output_type": "stream",
          "name": "stdout",
          "text": [
            "dat =\n",
            "[[ 0  1  2  3  4  5]\n",
            " [ 6  7  8  9 10 11]\n",
            " [12 13 14 15 16 17]\n",
            " [18 19 20 21 22 23]\n",
            " [24 25 26 27 28 29]]\n",
            "\n",
            "At dat[[2,4], 0:4] =\n",
            "[[12 13 14 15]\n",
            " [24 25 26 27]] \n",
            "\n",
            "Multiple acesses at the same time, pair by pair. Notice the use of the square brackets\n",
            "dat[[2,4], [1,5]] = \n",
            "[13 29]\n",
            "dat[[2,4,4], [1,5,3]] =\n",
            "[13 29 27]\n",
            "dat[[1],[2]] = \n",
            "[8]\n",
            "dat[1,2] =\n",
            "8\n"
          ]
        }
      ],
      "source": [
        "# More slicing, for rows 2nd and 4th, with columns 0,1,2,3; the fourth column is not included\n",
        "# Note how we could use a bracket and range/sequence here\n",
        "print(\"dat =\")\n",
        "print(dat)\n",
        "print(\"\\nAt dat[[2,4], 0:4] =\")\n",
        "print(dat[[2,4], 0:4], '\\n')\n",
        "\n",
        "# Multiple accesses at once\n",
        "print(\"Multiple acesses at the same time, pair by pair. Notice the use of the square brackets\")\n",
        "print(\"dat[[2,4], [1,5]] = \")\n",
        "print(dat[[2,4], [1,5]])  # checked! two values, pair by pair, i.e., [2,1], [4,5]\n",
        "\n",
        "print(\"dat[[2,4,4], [1,5,3]] =\")\n",
        "print(dat[[2,4,4], [1,5,3]])  # checked! three values, pair by pair, , i.e., [2,1], [4,5], [4,3] \n",
        "\n",
        "# same results for the following\n",
        "print(\"dat[[1],[2]] = \")\n",
        "print(dat[[1],[2]])  # using a pair accessing of [1,2]\n",
        "print(\"dat[1,2] =\")\n",
        "print(dat[1,2])"
      ]
    },
    {
      "cell_type": "code",
      "source": [
        "\n",
        "# Accessing elements in a sequential step, incrementally one step after another.\n",
        "\n",
        "print(\"dat:\\n\", dat)\n",
        "print()\n",
        "\n",
        "# Notice how each pair of square brackets is used, without a comma separation between the brackets\n",
        "print(\"dat[2,][0:4] = \",dat[2,][0:4])\n",
        "print()\n",
        "print(\"dat[2,][0:4][1] = \",dat[2,][0:4][1])\n",
        "\n",
        "print(\"dat[2,][0:4][1:] = \",dat[2,][0:4][1:])\n",
        "\n",
        "print(\"dat[2,][0:4][1:][2] = \",dat[2,][0:4][1:][2])\n",
        "\n",
        "print(\"\\nGet 4 values:\")\n",
        "print(\"dat[[2,4],][:,[1,5]] =\") # notice the sequential two brackets \n",
        "dat[ [2,4], ] [ :,[1,5] ]\n"
      ],
      "metadata": {
        "colab": {
          "base_uri": "https://localhost:8080/"
        },
        "id": "Xx2IYoEJPoG9",
        "outputId": "a591e99b-7950-44b3-a9af-4f7d3c25819d"
      },
      "execution_count": 74,
      "outputs": [
        {
          "output_type": "stream",
          "name": "stdout",
          "text": [
            "dat:\n",
            " [[ 0  1  2  3  4  5]\n",
            " [ 6  7  8  9 10 11]\n",
            " [12 13 14 15 16 17]\n",
            " [18 19 20 21 22 23]\n",
            " [24 25 26 27 28 29]]\n",
            "\n",
            "dat[2,][0:4] =  [12 13 14 15]\n",
            "\n",
            "dat[2,][0:4][1] =  13\n",
            "dat[2,][0:4][1:] =  [13 14 15]\n",
            "dat[2,][0:4][1:][2] =  15\n",
            "\n",
            "Get 4 values:\n",
            "dat[[2,4],][:,[1,5]] =\n"
          ]
        },
        {
          "output_type": "execute_result",
          "data": {
            "text/plain": [
              "array([[13, 17],\n",
              "       [25, 29]])"
            ]
          },
          "metadata": {},
          "execution_count": 74
        }
      ]
    },
    {
      "cell_type": "code",
      "execution_count": 76,
      "metadata": {
        "id": "ucAGNwiqg-EO",
        "outputId": "1c32c2e9-c066-4cca-b808-30d5137afc15",
        "colab": {
          "base_uri": "https://localhost:8080/"
        }
      },
      "outputs": [
        {
          "output_type": "stream",
          "name": "stdout",
          "text": [
            "[0 1 2 3 4 5]\n",
            "[ 6  7  8  9 10 11]\n",
            "[12 13 14 15 16 17]\n",
            "[18 19 20 21 22 23]\n",
            "[24 25 26 27 28 29]\n"
          ]
        }
      ],
      "source": [
        "# If we apply the for loop to a matrix, you will find out that it will always \n",
        "# perform a scan according to the first axis.\n",
        "\n",
        "# print row by row\n",
        "for i in dat:\n",
        "    print(i)"
      ]
    },
    {
      "cell_type": "code",
      "execution_count": 75,
      "metadata": {
        "id": "EiFw0Lrpg-EO",
        "outputId": "6da1c115-1a78-42e3-dbaa-350c7976f143",
        "colab": {
          "base_uri": "https://localhost:8080/"
        }
      },
      "outputs": [
        {
          "output_type": "stream",
          "name": "stdout",
          "text": [
            "0|1|2|3|4|5|\n",
            "\n",
            "6|7|8|9|10|11|\n",
            "\n",
            "12|13|14|15|16|17|\n",
            "\n",
            "18|19|20|21|22|23|\n",
            "\n",
            "24|25|26|27|28|29|\n",
            "\n"
          ]
        }
      ],
      "source": [
        "# print each row and each column\n",
        "for r in dat:\n",
        "    for c in r:\n",
        "        print(c, end='|')\n",
        "    print('\\n')"
      ]
    },
    {
      "cell_type": "code",
      "source": [
        "# We can also make an iteration, element by element, using the for loop on a .flat function\n",
        "for i in dat.flat:\n",
        "  print(i, end=\" \")\n"
      ],
      "metadata": {
        "colab": {
          "base_uri": "https://localhost:8080/"
        },
        "id": "A88H_1gOdgJP",
        "outputId": "a459d4a0-c983-4ba2-d85b-24b5414a9bde"
      },
      "execution_count": 77,
      "outputs": [
        {
          "output_type": "stream",
          "name": "stdout",
          "text": [
            "0 1 2 3 4 5 6 7 8 9 10 11 12 13 14 15 16 17 18 19 20 21 22 23 24 25 26 27 28 29 "
          ]
        }
      ]
    },
    {
      "cell_type": "code",
      "source": [
        "# If we want to launch an aggregate function that returns a value calculated for every single \n",
        "# column or on every single row, we could use the apply_along_axis() function.\n",
        "\n",
        "# If the option axis equals 0, then the iteration evaluates the elements, column by \n",
        "# column, whereas if the axis equals 1 then the iteration evaluates the elements row by row.\n",
        "\n",
        "print(dat)\n",
        "print()\n",
        "np.apply_along_axis(np.sum, axis= 1, arr= dat)"
      ],
      "metadata": {
        "colab": {
          "base_uri": "https://localhost:8080/"
        },
        "id": "4mksDqFIfLEV",
        "outputId": "81c748c2-6e5a-423b-c9bf-413272aa2398"
      },
      "execution_count": 78,
      "outputs": [
        {
          "output_type": "stream",
          "name": "stdout",
          "text": [
            "[[ 0  1  2  3  4  5]\n",
            " [ 6  7  8  9 10 11]\n",
            " [12 13 14 15 16 17]\n",
            " [18 19 20 21 22 23]\n",
            " [24 25 26 27 28 29]]\n",
            "\n"
          ]
        },
        {
          "output_type": "execute_result",
          "data": {
            "text/plain": [
              "array([ 15,  51,  87, 123, 159])"
            ]
          },
          "metadata": {},
          "execution_count": 78
        }
      ]
    },
    {
      "cell_type": "code",
      "execution_count": 80,
      "metadata": {
        "id": "eqHtIBE_g-EO",
        "outputId": "561436c8-61b7-4e31-8f3a-ab4e88dafade",
        "colab": {
          "base_uri": "https://localhost:8080/"
        }
      },
      "outputs": [
        {
          "output_type": "stream",
          "name": "stdout",
          "text": [
            "[[ 0  1  2  3  4  5]\n",
            " [ 6  7  8  9 10 11]\n",
            " [12 13 14 15 16 17]\n",
            " [18 19 20 21 22 23]\n",
            " [24 25 26 27 28 29]]\n"
          ]
        },
        {
          "output_type": "execute_result",
          "data": {
            "text/plain": [
              "array([[False, False, False, False, False, False],\n",
              "       [False, False, False, False, False, False],\n",
              "       [False, False, False, False, False, False],\n",
              "       [False,  True,  True,  True,  True,  True],\n",
              "       [ True,  True,  True,  True,  True,  True]])"
            ]
          },
          "metadata": {},
          "execution_count": 80
        }
      ],
      "source": [
        "# conditions and Boolean arrays; note the element-wise operation\n",
        "print(dat)\n",
        "dat > 18"
      ]
    },
    {
      "cell_type": "code",
      "execution_count": 86,
      "metadata": {
        "id": "J4ovQMSHg-EO",
        "outputId": "a231d091-766b-4b3c-bfbd-e4a3ec9c825b",
        "colab": {
          "base_uri": "https://localhost:8080/"
        }
      },
      "outputs": [
        {
          "output_type": "stream",
          "name": "stdout",
          "text": [
            "boolean of 0:  False\n",
            "boolean of 9:  True\n",
            "boolean of -9:  True\n",
            "boolean of -9.5:  True\n",
            "False\n",
            "True\n",
            "0b100\n",
            "0b1001\n",
            "0\n",
            "13\n"
          ]
        }
      ],
      "source": [
        "# Selection:\n",
        "# filter and extract all elements within the given condition.\n",
        "# note the use of condition in a bracket.\n",
        "\n",
        "dat[ (7 < dat)  & (dat < 16)] # use & for a condition, when working with elements within an array\n",
        "\n",
        "# dat[ (7 < dat)  and (dat < 16)] # Remark: This use here is not valid and supported\n",
        "\n",
        "\n",
        "# and, a logical operator\n",
        "# &, a bitwise/binary operator\n",
        "\n",
        "print(\"boolean of 0: \" ,bool(0))\n",
        "print(\"boolean of 9: \" ,bool(9))\n",
        "print(\"boolean of -9: \" ,bool(-9))\n",
        "print(\"boolean of -9.5: \" ,bool(-9.5))\n",
        "\n",
        "print(4>3 and 9<6)\n",
        "print(4 <= 9)\n",
        "\n",
        "print(bin(4))\n",
        "print(bin(9))\n",
        "print(4 & 9)\n",
        "print(4 | 9)"
      ]
    },
    {
      "cell_type": "code",
      "execution_count": 89,
      "metadata": {
        "id": "55Kg3p-Cg-EP",
        "outputId": "f178a9ed-435d-4abf-a6e6-e151bed56d32",
        "colab": {
          "base_uri": "https://localhost:8080/"
        }
      },
      "outputs": [
        {
          "output_type": "stream",
          "name": "stdout",
          "text": [
            "[False, False, True]\n",
            "[True, False, True]\n"
          ]
        }
      ],
      "source": [
        "p = [True, False, True]\n",
        "q = [False, False, True]\n",
        "print(p and q)\n",
        "# print(p & q) # This used is not valid and supported; (list & list) is not supported , use 'and' instead\n",
        "print(p or q)"
      ]
    },
    {
      "cell_type": "code",
      "execution_count": 92,
      "metadata": {
        "id": "C0vteckcg-EP",
        "outputId": "64823e57-a152-4012-c282-1190f8ee7660",
        "colab": {
          "base_uri": "https://localhost:8080/"
        }
      },
      "outputs": [
        {
          "output_type": "stream",
          "name": "stdout",
          "text": [
            "8\n",
            "3\n",
            "hello, m is  3 \n",
            "\n",
            "0\n",
            "0\n",
            "\n",
            "hello,  5\n",
            "\n",
            "hello,  5\n",
            "\n",
            "1\n",
            "1\n"
          ]
        }
      ],
      "source": [
        "# interesting: lazy evaluation of the 'and',\n",
        "# which stops immediately when it is true, and no further evaluation is done.\n",
        "# Hence the use of boolean and AND is recommended in a loop.\n",
        "m = 3\n",
        "n = 8\n",
        "# the following two statements need to check to the end for AND\n",
        "print(m and n)  # print n value\n",
        "print(n and m)  # print m value\n",
        "\n",
        "if (m and n): \n",
        "    print(\"hello, m is \", m, \"\\n\")\n",
        "\n",
        "# When an integer value is 0, it is considered as False, otherwise True\n",
        "m = 0\n",
        "n = 5\n",
        "print(m and n) # really shows how the lazy evaluation works.\n",
        "print(n and m)\n",
        "\n",
        "print()\n",
        "if (m and n): \n",
        "    print(\"hello, \", m)\n",
        "else:\n",
        "    print(\"hello, \", n)\n",
        "print()  \n",
        "\n",
        "if (n and m): \n",
        "    print(\"hello, \", m)\n",
        "else:\n",
        "    print(\"hello, \", n)\n",
        "print()  \n",
        "\n",
        "# now try the bitwise-and, &\n",
        "# we already talked about it previously.\n",
        "m = 3\n",
        "n = 5\n",
        "print(m & n)\n",
        "print(n & m)\n"
      ]
    },
    {
      "cell_type": "code",
      "source": [
        "# Shape manipulation\n",
        "dat.shape = (5,6)\n",
        "print(dat)\n",
        "print(\"Shape = \", dat.shape)\n",
        "\n",
        "# Create a new data object, without changing the origial data\n",
        "newDat = dat.reshape(2,15)\n",
        "print(newDat)\n",
        "\n",
        "# Modify the original data\n",
        "dat.shape = (6,5)\n",
        "print(dat)\n",
        "\n",
        "# In order to convert a two-dimensional array into a one-dimensional array, use\n",
        "# the ravel() function.\n",
        "\n",
        "oneD = dat.ravel() # original array stays the same\n",
        "print(oneD)\n",
        "\n",
        "# or we could use\n",
        "print()\n",
        "dat.shape = (30,) # this time the array is changed in shape; or using (30)\n",
        "print(dat)\n",
        "print(dat.shape)\n",
        "\n",
        "# Another important operation is the transposition of a matrix that is an inversion of the columns with \n",
        "# rows\n",
        "\n",
        "tmat = dat.reshape(6,5)\n",
        "print(tmat)\n",
        "print()\n",
        "tp = tmat.transpose()\n",
        "print(tp)"
      ],
      "metadata": {
        "colab": {
          "base_uri": "https://localhost:8080/"
        },
        "id": "juxnC6iPhdpE",
        "outputId": "66d7ac9b-6e12-4e3d-842f-56e5e0a47ce9"
      },
      "execution_count": 93,
      "outputs": [
        {
          "output_type": "stream",
          "name": "stdout",
          "text": [
            "[[ 0  1  2  3  4  5]\n",
            " [ 6  7  8  9 10 11]\n",
            " [12 13 14 15 16 17]\n",
            " [18 19 20 21 22 23]\n",
            " [24 25 26 27 28 29]]\n",
            "Shape =  (5, 6)\n",
            "[[ 0  1  2  3  4  5  6  7  8  9 10 11 12 13 14]\n",
            " [15 16 17 18 19 20 21 22 23 24 25 26 27 28 29]]\n",
            "[[ 0  1  2  3  4]\n",
            " [ 5  6  7  8  9]\n",
            " [10 11 12 13 14]\n",
            " [15 16 17 18 19]\n",
            " [20 21 22 23 24]\n",
            " [25 26 27 28 29]]\n",
            "[ 0  1  2  3  4  5  6  7  8  9 10 11 12 13 14 15 16 17 18 19 20 21 22 23\n",
            " 24 25 26 27 28 29]\n",
            "\n",
            "[ 0  1  2  3  4  5  6  7  8  9 10 11 12 13 14 15 16 17 18 19 20 21 22 23\n",
            " 24 25 26 27 28 29]\n",
            "(30,)\n",
            "[[ 0  1  2  3  4]\n",
            " [ 5  6  7  8  9]\n",
            " [10 11 12 13 14]\n",
            " [15 16 17 18 19]\n",
            " [20 21 22 23 24]\n",
            " [25 26 27 28 29]]\n",
            "\n",
            "[[ 0  5 10 15 20 25]\n",
            " [ 1  6 11 16 21 26]\n",
            " [ 2  7 12 17 22 27]\n",
            " [ 3  8 13 18 23 28]\n",
            " [ 4  9 14 19 24 29]]\n"
          ]
        }
      ]
    },
    {
      "cell_type": "code",
      "source": [
        "# Array manipulation\n",
        "\n",
        "# We can merge multiple arrays together to form a new one\n",
        "# We can use the vstack() function, which combines the second array as new rows of the first array\n",
        "# and the hstack() function to perform horizontal stacking; that is, the second array is added \n",
        "# to the columns of the first array\n",
        "\n",
        "amat = np.ones((3,4), dtype= np.uint32)\n",
        "print(amat)\n",
        "print()\n",
        "bmat = np.full((2,4), 8)\n",
        "print(bmat)\n",
        "\n",
        "cmat = np.vstack((amat,bmat))\n",
        "print()\n",
        "print(cmat)\n",
        "\n",
        "# Two other functions performing stacking between multiple arrays are \n",
        "# column_stack() and row_stack(). \n",
        "\n",
        "# Unlike the previous vstack and hstack, these new functions \n",
        "# are used with one-dimensional arrays that are stacked as columns or rows \n",
        "# in order to form a new two dimensional array\n",
        "\n",
        "a = np.array([0, 1, 2])\n",
        "print()\n",
        "print(\"a= \", a)\n",
        "b = np.array([3, 4, 5])\n",
        "print(\"b= \", b)\n",
        "c = np.array([6, 7, 8])\n",
        "print(\"c= \", c)\n",
        "d = np.column_stack((a, b, c))\n",
        "print()\n",
        "print(d)\n",
        "\n",
        "print(d.shape)\n",
        "print(d[:,0])"
      ],
      "metadata": {
        "colab": {
          "base_uri": "https://localhost:8080/"
        },
        "id": "gC0PYP5eu9SV",
        "outputId": "ea548bf9-747d-4906-e70a-f2bcae03a7eb"
      },
      "execution_count": null,
      "outputs": [
        {
          "output_type": "stream",
          "name": "stdout",
          "text": [
            "[[1 1 1 1]\n",
            " [1 1 1 1]\n",
            " [1 1 1 1]]\n",
            "\n",
            "[[8 8 8 8]\n",
            " [8 8 8 8]]\n",
            "\n",
            "[[1 1 1 1]\n",
            " [1 1 1 1]\n",
            " [1 1 1 1]\n",
            " [8 8 8 8]\n",
            " [8 8 8 8]]\n",
            "\n",
            "a=  [0 1 2]\n",
            "b=  [3 4 5]\n",
            "c=  [6 7 8]\n",
            "\n",
            "[[0 3 6]\n",
            " [1 4 7]\n",
            " [2 5 8]]\n",
            "(3, 3)\n",
            "[0 1 2]\n"
          ]
        }
      ]
    },
    {
      "cell_type": "code",
      "source": [
        "# We can divide an array into several parts.We have a set of functions that work both \n",
        "# horizontally with the hsplit() function and vertically with the vsplit() function\n",
        "\n",
        "fmat = np.arange(24)\n",
        "fmat.shape = (4,6)\n",
        "print()\n",
        "print(fmat)\n",
        "\n",
        "[g,h,i] = np.hsplit(fmat,3)\n",
        "print()\n",
        "print(g)\n",
        "print()\n",
        "print(h)\n",
        "print()\n",
        "print(i)"
      ],
      "metadata": {
        "colab": {
          "base_uri": "https://localhost:8080/"
        },
        "id": "j2vcuKDS4lmZ",
        "outputId": "5394e855-3214-4507-e748-79f7de452a37"
      },
      "execution_count": null,
      "outputs": [
        {
          "output_type": "stream",
          "name": "stdout",
          "text": [
            "\n",
            "[[ 0  1  2  3  4  5]\n",
            " [ 6  7  8  9 10 11]\n",
            " [12 13 14 15 16 17]\n",
            " [18 19 20 21 22 23]]\n",
            "\n",
            "[[ 0  1]\n",
            " [ 6  7]\n",
            " [12 13]\n",
            " [18 19]]\n",
            "\n",
            "[[ 2  3]\n",
            " [ 8  9]\n",
            " [14 15]\n",
            " [20 21]]\n",
            "\n",
            "[[ 4  5]\n",
            " [10 11]\n",
            " [16 17]\n",
            " [22 23]]\n"
          ]
        }
      ]
    },
    {
      "cell_type": "code",
      "source": [
        "# A more complex command is the split() function, which allows us to split the array into \n",
        "# nonsymmetrical parts. \n",
        "\n",
        "# We have also to specify the indexes of the parts to be divided; if axis = 1, then the indexes will \n",
        "# be those of the columns, but if instead an axis = 0, then they will be the row indexes.\n",
        "\n",
        "A = np.arange(16).reshape((4, 4))\n",
        "print(A)\n",
        "print()\n",
        "# Using [1,3], it means splitting with 3 sections as [:1], [1:3], and [3:]\n",
        "[A1,A2,A3] = np.split(A,[1,3],axis=1)\n",
        "print(A1)\n",
        "print(A2)\n",
        "print(A3)\n",
        "\n",
        "# to split equally, use just an integer to indicate so, i.e., 2 for two segments\n",
        "[A1,A2] = np.split(A,2,axis=1)\n",
        "print()\n",
        "print(A1)\n",
        "print()\n",
        "print(A2)\n"
      ],
      "metadata": {
        "colab": {
          "base_uri": "https://localhost:8080/"
        },
        "id": "AW6DGFvH7Jmw",
        "outputId": "d0ea0f9e-4a87-4cc4-9813-6bf86b4c6403"
      },
      "execution_count": null,
      "outputs": [
        {
          "output_type": "stream",
          "name": "stdout",
          "text": [
            "[[ 0  1  2  3]\n",
            " [ 4  5  6  7]\n",
            " [ 8  9 10 11]\n",
            " [12 13 14 15]]\n",
            "\n",
            "[[ 0]\n",
            " [ 4]\n",
            " [ 8]\n",
            " [12]]\n",
            "[[ 1  2]\n",
            " [ 5  6]\n",
            " [ 9 10]\n",
            " [13 14]]\n",
            "[[ 3]\n",
            " [ 7]\n",
            " [11]\n",
            " [15]]\n",
            "\n",
            "[[ 0  1]\n",
            " [ 4  5]\n",
            " [ 8  9]\n",
            " [12 13]]\n",
            "\n",
            "[[ 2  3]\n",
            " [ 6  7]\n",
            " [10 11]\n",
            " [14 15]]\n"
          ]
        }
      ]
    },
    {
      "cell_type": "code",
      "source": [
        "# Array copy\n",
        "# When we want to generate a complete copy and distinct array, use a copy() function.\n",
        "\n",
        "amat = np.full((2,4), 9)\n",
        "print(amat)\n",
        "bmat = amat.copy()\n",
        "print()\n",
        "print(bmat)"
      ],
      "metadata": {
        "colab": {
          "base_uri": "https://localhost:8080/"
        },
        "id": "XYHRgSOA_CGq",
        "outputId": "086cead0-0905-4d5d-a7c6-dfd8bc709036"
      },
      "execution_count": null,
      "outputs": [
        {
          "output_type": "stream",
          "name": "stdout",
          "text": [
            "[[9 9 9 9]\n",
            " [9 9 9 9]]\n",
            "\n",
            "[[9 9 9 9]\n",
            " [9 9 9 9]]\n"
          ]
        }
      ]
    },
    {
      "cell_type": "code",
      "source": [
        "\n",
        "# Structured arrays\n",
        "\n",
        "# We can have a special kind of array whose elements are of different types, called structured array.\n",
        "# Structured arrays are ndarrays whose datatype is a composition of simpler datatypes \n",
        "# organized as a sequence of named fields\n",
        "\n",
        "# Type symbols include:\n",
        "#   bytes b1\n",
        "#   int i1, i2, i4, i8\n",
        "#   unsigned ints u1, u2, u4, u8\n",
        "#   floats f2, f4, f8\n",
        "#   complex c8, c16\n",
        "#   strings U<n>; Unicode string of a maximum length n\n",
        "\n",
        "# This one-dimensional array of length two whose datatype is a structure with three fields: 1. \n",
        "# A string of length 10 or less named ‘name’, 2. a 32-bit integer named ‘age’, \n",
        "# and 3. a 32-bit float named ‘weight’.\n",
        "\n",
        "structured_array = np.array([('Rex', 9, 81.0), ('Fido', 3, 27.0)],\n",
        "             dtype=[('name', 'U10'), ('age', 'i4'), ('weight', 'f4')])\n",
        "\n",
        "print(structured_array)\n",
        "print()\n",
        "print(structured_array[1])\n",
        "\n",
        "# access by using a field name\n",
        "print()\n",
        "structured_array['age']\n",
        "\n",
        "# Remark:\n",
        "# This structured datatypes are designed to mimic ‘structs’ in the C language\n",
        "# If you are looking to manipulate tabular data, such as stored in csv files, \n",
        "# we may find Pandas more suitable.\n"
      ],
      "metadata": {
        "colab": {
          "base_uri": "https://localhost:8080/"
        },
        "id": "-hN0y2xEFEYy",
        "outputId": "1c7098eb-aa35-421c-d2f5-9009c42b3fd9"
      },
      "execution_count": null,
      "outputs": [
        {
          "output_type": "stream",
          "name": "stdout",
          "text": [
            "[('Rex', 9, 81.) ('Fido', 3, 27.)]\n",
            "\n",
            "('Fido', 3, 27.)\n",
            "\n"
          ]
        },
        {
          "output_type": "execute_result",
          "data": {
            "text/plain": [
              "array([9, 3], dtype=int32)"
            ]
          },
          "metadata": {},
          "execution_count": 55
        }
      ]
    },
    {
      "cell_type": "code",
      "source": [
        "from google.colab import drive\n",
        "drive.mount('/content/drive')"
      ],
      "metadata": {
        "colab": {
          "base_uri": "https://localhost:8080/"
        },
        "id": "ktHSYE-C4vPz",
        "outputId": "d50ce207-7e2a-46f0-e5e6-67b822cebdc4"
      },
      "execution_count": 94,
      "outputs": [
        {
          "output_type": "stream",
          "name": "stdout",
          "text": [
            "Mounted at /content/drive\n"
          ]
        }
      ]
    },
    {
      "cell_type": "markdown",
      "source": [
        "Pandas\n",
        "- Python Data Analysis Library\n",
        "- Developer Wes McKinney started working on pandas in 2008 \n",
        "- Pandas is mainly used for data analysis. Pandas allows importing data from various file formats such as comma-separated values, JSON, SQL database tables or queries, and Microsoft Excel. \n",
        "- Pandas allows various data manipulation operations such as merging, reshaping, selecting as well as data cleaning, and data wrangling features.\n",
        "- Ref: https://en.wikipedia.org/wiki/Pandas_(software)"
      ],
      "metadata": {
        "id": "jxJDYVDf99pJ"
      }
    },
    {
      "cell_type": "code",
      "execution_count": null,
      "metadata": {
        "id": "f8IEZG6gg-EQ",
        "colab": {
          "base_uri": "https://localhost:8080/"
        },
        "outputId": "d72aeb9c-79c9-4818-9c7c-9084e5cbead7"
      },
      "outputs": [
        {
          "output_type": "stream",
          "name": "stdout",
          "text": [
            "0    11\n",
            "1    12\n",
            "2    13\n",
            "dtype: int64 \n",
            "\n",
            "11 \n",
            "\n",
            "1    12\n",
            "2    13\n",
            "dtype: int64 \n",
            "\n",
            "0    11\n",
            "1    12\n",
            "2    13\n",
            "dtype: int64 \n",
            "\n"
          ]
        }
      ],
      "source": [
        "# Now, let's try to work on Pandas\n",
        "# Two key data structures are Series and Data Frame\n",
        "\n",
        "# Pandas is a software library written for the Python programming language for data manipulation and \n",
        "# analysis. In particular, it offers data structures and operations for manipulating numerical tables and \n",
        "# time series.\n",
        "\n",
        "# Pandas stands for Python Data Analysis Library.\n",
        "# The name is derived from the term “panel data” for multidimensional structured data sets, according to Wikipedia\n",
        "\n",
        "import pandas as pd\n",
        "import numpy as np  # import, just in case\n",
        "\n",
        "# By default, indices run from 0 onwards; later we could label the indices ourselves\n",
        "q = pd.Series([11,12,13])\n",
        "\n",
        "print(q, \"\\n\")\n",
        "# Use indexing to access some element\n",
        "print(q[0], \"\\n\")\n",
        "print(q[1:], \"\\n\")\n",
        "print(q[:], \"\\n\")\n"
      ]
    },
    {
      "cell_type": "code",
      "execution_count": null,
      "metadata": {
        "id": "JFjC9F5-g-EQ",
        "outputId": "4df6b494-68bd-44ba-c25e-f3f0ea950c80",
        "colab": {
          "base_uri": "https://localhost:8080/"
        }
      },
      "outputs": [
        {
          "output_type": "stream",
          "name": "stdout",
          "text": [
            "u       3\n",
            "v       6\n",
            "ban    21\n",
            "dtype: int64 \n",
            "\n",
            "3 \n",
            "\n",
            "3 \n",
            "\n",
            "u       3\n",
            "ban    21\n",
            "dtype: int64 \n",
            "\n"
          ]
        }
      ],
      "source": [
        "# We can optionally assign index labeling.\n",
        "r = pd.Series([3,6,21], index = ['u','v','ban'])\n",
        "\n",
        "print(r, \"\\n\")\n",
        "# Access with label/index\n",
        "print(r[0], \"\\n\")\n",
        "print(r['u'], \"\\n\")\n",
        "print(r[['u','ban']], \"\\n\") # multiple selection\n"
      ]
    },
    {
      "cell_type": "code",
      "execution_count": null,
      "metadata": {
        "id": "-0BGycnrg-EQ",
        "outputId": "67497bff-7d92-4913-ae8e-7c7dfc6f54b2",
        "colab": {
          "base_uri": "https://localhost:8080/"
        }
      },
      "outputs": [
        {
          "output_type": "stream",
          "name": "stdout",
          "text": [
            "0      4\n",
            "1      7\n",
            "2     10\n",
            "3     13\n",
            "4     16\n",
            "5     19\n",
            "6     22\n",
            "7     25\n",
            "8     28\n",
            "9     31\n",
            "10    34\n",
            "dtype: int64 \n",
            "\n",
            "selection: less than 20\n",
            "0     4\n",
            "1     7\n",
            "2    10\n",
            "3    13\n",
            "4    16\n",
            "5    19\n",
            "dtype: int64 \n",
            "\n",
            "integral division (quotient)\n",
            "0      2\n",
            "1      3\n",
            "2      5\n",
            "3      6\n",
            "4      8\n",
            "5      9\n",
            "6     11\n",
            "7     12\n",
            "8     14\n",
            "9     15\n",
            "10    17\n",
            "dtype: int64 \n",
            "\n",
            "square root:\n"
          ]
        },
        {
          "output_type": "execute_result",
          "data": {
            "text/plain": [
              "0     2.000000\n",
              "1     2.645751\n",
              "2     3.162278\n",
              "3     3.605551\n",
              "4     4.000000\n",
              "5     4.358899\n",
              "6     4.690416\n",
              "7     5.000000\n",
              "8     5.291503\n",
              "9     5.567764\n",
              "10    5.830952\n",
              "dtype: float64"
            ]
          },
          "metadata": {},
          "execution_count": 60
        }
      ],
      "source": [
        "# filtering and arithmetic operations\n",
        "r = pd.Series(range(4,37,3))  # in range(start, stop, step), excluding the stop/ending number\n",
        "print(r, \"\\n\")\n",
        "\n",
        "print(\"selection: less than 20\")\n",
        "print(r[r<20], \"\\n\")\n",
        "\n",
        "print(\"integral division (quotient)\")\n",
        "print(r // 2, \"\\n\")  # for remainder, use a modulo operator %\n",
        "print(\"square root:\")\n",
        "np.sqrt(r)"
      ]
    },
    {
      "cell_type": "code",
      "execution_count": null,
      "metadata": {
        "id": "X_sKj5RVg-ER",
        "outputId": "f588d167-2099-400a-8f64-9c5c0d736b85",
        "colab": {
          "base_uri": "https://localhost:8080/"
        }
      },
      "outputs": [
        {
          "output_type": "stream",
          "name": "stdout",
          "text": [
            "data:\n",
            "0    2.0\n",
            "1    3.0\n",
            "2    3.0\n",
            "3    4.0\n",
            "4    5.0\n",
            "5    NaN\n",
            "6    7.0\n",
            "7    8.0\n",
            "8    8.0\n",
            "9    8.0\n",
            "dtype: float32\n",
            "unique:  [ 2.  3.  4.  5. nan  7.  8.]\n",
            "counts:\n",
            "8.0    3\n",
            "3.0    2\n",
            "2.0    1\n",
            "4.0    1\n",
            "5.0    1\n",
            "7.0    1\n",
            "dtype: int64\n",
            "check if each element is in the data:\n",
            "0    False\n",
            "1     True\n",
            "2     True\n",
            "3    False\n",
            "4    False\n",
            "5    False\n",
            "6    False\n",
            "7     True\n",
            "8     True\n",
            "9     True\n",
            "dtype: bool\n",
            "check whether each one is a NaN\n"
          ]
        },
        {
          "output_type": "execute_result",
          "data": {
            "text/plain": [
              "0    False\n",
              "1    False\n",
              "2    False\n",
              "3    False\n",
              "4    False\n",
              "5     True\n",
              "6    False\n",
              "7    False\n",
              "8    False\n",
              "9    False\n",
              "dtype: bool"
            ]
          },
          "metadata": {},
          "execution_count": 61
        }
      ],
      "source": [
        "# find unique/value_counts/isin\n",
        "s = pd.Series([2,3,3,4,5,np.NaN,7,8,8,8], dtype= np.float32)\n",
        "print(\"data:\")\n",
        "print(s)\n",
        "print(\"unique: \", s.unique())\n",
        "print(\"counts:\")\n",
        "print(s.value_counts())\n",
        "\n",
        "# check each for being a member in a given list/object\n",
        "print(\"check if each element is in the data:\")\n",
        "print(s.isin([3,8]))\n",
        "\n",
        "# check for not-a-number (NaN)\n",
        "print(\"check whether each one is a NaN\")\n",
        "s.isnull()  # otherwise, try notnull()"
      ]
    },
    {
      "cell_type": "code",
      "execution_count": null,
      "metadata": {
        "id": "lSRM-m_Sg-ER",
        "outputId": "5969265e-58b6-4d06-bfac-15c238d20550",
        "colab": {
          "base_uri": "https://localhost:8080/"
        }
      },
      "outputs": [
        {
          "output_type": "stream",
          "name": "stdout",
          "text": [
            "blue:  900\n",
            "\n",
            "dictionary:\n",
            "{'red': 200, 'blue': 900, 'yellow': 500, 'orange': 1000}\n",
            "\n",
            "series of the dictionary:\n",
            "red        200\n",
            "blue       900\n",
            "yellow     500\n",
            "orange    1000\n",
            "dtype: int64\n",
            "\n",
            "1000\n"
          ]
        }
      ],
      "source": [
        "# Series as a dictionary\n",
        "\n",
        "# dictionary has {key:value} \n",
        "mydict = {'red': 200, 'blue': 900, 'yellow': 500, 'orange': 1000}\n",
        "\n",
        "print(\"blue: \", mydict['blue'])\n",
        "print()\n",
        "print(\"dictionary:\")\n",
        "print(mydict)\n",
        "\n",
        "sr = pd.Series(mydict)\n",
        "print(\"\\nseries of the dictionary:\")\n",
        "print(sr)\n",
        "\n",
        "print()\n",
        "print(sr['orange'])"
      ]
    },
    {
      "cell_type": "code",
      "execution_count": null,
      "metadata": {
        "id": "qYfQd9V8g-ER",
        "outputId": "9664885a-636e-4750-b96a-9ec3e3087610",
        "colab": {
          "base_uri": "https://localhost:8080/",
          "height": 275
        }
      },
      "outputs": [
        {
          "output_type": "stream",
          "name": "stdout",
          "text": [
            "<class 'dict'>\n",
            "{'color': ['blue', 'green', 'yellow', 'red', 'white'], 'object': ['ring', 'eraser', 'pencil', 'paper', 'cup'], 'price': [15, 12, 63, 1.4, 190]}\n",
            "\n",
            "<class 'pandas.core.frame.DataFrame'>\n"
          ]
        },
        {
          "output_type": "execute_result",
          "data": {
            "text/plain": [
              "    color  object  price\n",
              "0    blue    ring   15.0\n",
              "1   green  eraser   12.0\n",
              "2  yellow  pencil   63.0\n",
              "3     red   paper    1.4\n",
              "4   white     cup  190.0"
            ],
            "text/html": [
              "\n",
              "  <div id=\"df-319577e5-df00-4a93-86a1-1d29b9bed561\">\n",
              "    <div class=\"colab-df-container\">\n",
              "      <div>\n",
              "<style scoped>\n",
              "    .dataframe tbody tr th:only-of-type {\n",
              "        vertical-align: middle;\n",
              "    }\n",
              "\n",
              "    .dataframe tbody tr th {\n",
              "        vertical-align: top;\n",
              "    }\n",
              "\n",
              "    .dataframe thead th {\n",
              "        text-align: right;\n",
              "    }\n",
              "</style>\n",
              "<table border=\"1\" class=\"dataframe\">\n",
              "  <thead>\n",
              "    <tr style=\"text-align: right;\">\n",
              "      <th></th>\n",
              "      <th>color</th>\n",
              "      <th>object</th>\n",
              "      <th>price</th>\n",
              "    </tr>\n",
              "  </thead>\n",
              "  <tbody>\n",
              "    <tr>\n",
              "      <th>0</th>\n",
              "      <td>blue</td>\n",
              "      <td>ring</td>\n",
              "      <td>15.0</td>\n",
              "    </tr>\n",
              "    <tr>\n",
              "      <th>1</th>\n",
              "      <td>green</td>\n",
              "      <td>eraser</td>\n",
              "      <td>12.0</td>\n",
              "    </tr>\n",
              "    <tr>\n",
              "      <th>2</th>\n",
              "      <td>yellow</td>\n",
              "      <td>pencil</td>\n",
              "      <td>63.0</td>\n",
              "    </tr>\n",
              "    <tr>\n",
              "      <th>3</th>\n",
              "      <td>red</td>\n",
              "      <td>paper</td>\n",
              "      <td>1.4</td>\n",
              "    </tr>\n",
              "    <tr>\n",
              "      <th>4</th>\n",
              "      <td>white</td>\n",
              "      <td>cup</td>\n",
              "      <td>190.0</td>\n",
              "    </tr>\n",
              "  </tbody>\n",
              "</table>\n",
              "</div>\n",
              "      <button class=\"colab-df-convert\" onclick=\"convertToInteractive('df-319577e5-df00-4a93-86a1-1d29b9bed561')\"\n",
              "              title=\"Convert this dataframe to an interactive table.\"\n",
              "              style=\"display:none;\">\n",
              "        \n",
              "  <svg xmlns=\"http://www.w3.org/2000/svg\" height=\"24px\"viewBox=\"0 0 24 24\"\n",
              "       width=\"24px\">\n",
              "    <path d=\"M0 0h24v24H0V0z\" fill=\"none\"/>\n",
              "    <path d=\"M18.56 5.44l.94 2.06.94-2.06 2.06-.94-2.06-.94-.94-2.06-.94 2.06-2.06.94zm-11 1L8.5 8.5l.94-2.06 2.06-.94-2.06-.94L8.5 2.5l-.94 2.06-2.06.94zm10 10l.94 2.06.94-2.06 2.06-.94-2.06-.94-.94-2.06-.94 2.06-2.06.94z\"/><path d=\"M17.41 7.96l-1.37-1.37c-.4-.4-.92-.59-1.43-.59-.52 0-1.04.2-1.43.59L10.3 9.45l-7.72 7.72c-.78.78-.78 2.05 0 2.83L4 21.41c.39.39.9.59 1.41.59.51 0 1.02-.2 1.41-.59l7.78-7.78 2.81-2.81c.8-.78.8-2.07 0-2.86zM5.41 20L4 18.59l7.72-7.72 1.47 1.35L5.41 20z\"/>\n",
              "  </svg>\n",
              "      </button>\n",
              "      \n",
              "  <style>\n",
              "    .colab-df-container {\n",
              "      display:flex;\n",
              "      flex-wrap:wrap;\n",
              "      gap: 12px;\n",
              "    }\n",
              "\n",
              "    .colab-df-convert {\n",
              "      background-color: #E8F0FE;\n",
              "      border: none;\n",
              "      border-radius: 50%;\n",
              "      cursor: pointer;\n",
              "      display: none;\n",
              "      fill: #1967D2;\n",
              "      height: 32px;\n",
              "      padding: 0 0 0 0;\n",
              "      width: 32px;\n",
              "    }\n",
              "\n",
              "    .colab-df-convert:hover {\n",
              "      background-color: #E2EBFA;\n",
              "      box-shadow: 0px 1px 2px rgba(60, 64, 67, 0.3), 0px 1px 3px 1px rgba(60, 64, 67, 0.15);\n",
              "      fill: #174EA6;\n",
              "    }\n",
              "\n",
              "    [theme=dark] .colab-df-convert {\n",
              "      background-color: #3B4455;\n",
              "      fill: #D2E3FC;\n",
              "    }\n",
              "\n",
              "    [theme=dark] .colab-df-convert:hover {\n",
              "      background-color: #434B5C;\n",
              "      box-shadow: 0px 1px 3px 1px rgba(0, 0, 0, 0.15);\n",
              "      filter: drop-shadow(0px 1px 2px rgba(0, 0, 0, 0.3));\n",
              "      fill: #FFFFFF;\n",
              "    }\n",
              "  </style>\n",
              "\n",
              "      <script>\n",
              "        const buttonEl =\n",
              "          document.querySelector('#df-319577e5-df00-4a93-86a1-1d29b9bed561 button.colab-df-convert');\n",
              "        buttonEl.style.display =\n",
              "          google.colab.kernel.accessAllowed ? 'block' : 'none';\n",
              "\n",
              "        async function convertToInteractive(key) {\n",
              "          const element = document.querySelector('#df-319577e5-df00-4a93-86a1-1d29b9bed561');\n",
              "          const dataTable =\n",
              "            await google.colab.kernel.invokeFunction('convertToInteractive',\n",
              "                                                     [key], {});\n",
              "          if (!dataTable) return;\n",
              "\n",
              "          const docLinkHtml = 'Like what you see? Visit the ' +\n",
              "            '<a target=\"_blank\" href=https://colab.research.google.com/notebooks/data_table.ipynb>data table notebook</a>'\n",
              "            + ' to learn more about interactive tables.';\n",
              "          element.innerHTML = '';\n",
              "          dataTable['output_type'] = 'display_data';\n",
              "          await google.colab.output.renderOutput(dataTable, element);\n",
              "          const docLink = document.createElement('div');\n",
              "          docLink.innerHTML = docLinkHtml;\n",
              "          element.appendChild(docLink);\n",
              "        }\n",
              "      </script>\n",
              "    </div>\n",
              "  </div>\n",
              "  "
            ]
          },
          "metadata": {},
          "execution_count": 65
        }
      ],
      "source": [
        "# Data frame\n",
        "\n",
        "data = {'color' : ['blue','green','yellow','red','white'],\n",
        "         'object' : ['ring','eraser','pencil','paper','cup'],\n",
        "         'price' : [15,12,63,1.4,190]}\n",
        "# type: data dict\n",
        "print(type(data))\n",
        "print(data)\n",
        "print()  \n",
        "\n",
        "df = pd.DataFrame(data)\n",
        "print(type(df))\n",
        "df\n"
      ]
    },
    {
      "cell_type": "code",
      "execution_count": null,
      "metadata": {
        "id": "45ysS1ZGg-ES",
        "outputId": "f66d78b3-713c-4083-9786-e277592b760b",
        "colab": {
          "base_uri": "https://localhost:8080/",
          "height": 206
        }
      },
      "outputs": [
        {
          "output_type": "execute_result",
          "data": {
            "text/plain": [
              "   price  object\n",
              "0   15.0    ring\n",
              "1   12.0  eraser\n",
              "2   63.0  pencil\n",
              "3    1.4   paper\n",
              "4  190.0     cup"
            ],
            "text/html": [
              "\n",
              "  <div id=\"df-5fac3dad-cb8d-4081-952d-03dbbec6acb6\">\n",
              "    <div class=\"colab-df-container\">\n",
              "      <div>\n",
              "<style scoped>\n",
              "    .dataframe tbody tr th:only-of-type {\n",
              "        vertical-align: middle;\n",
              "    }\n",
              "\n",
              "    .dataframe tbody tr th {\n",
              "        vertical-align: top;\n",
              "    }\n",
              "\n",
              "    .dataframe thead th {\n",
              "        text-align: right;\n",
              "    }\n",
              "</style>\n",
              "<table border=\"1\" class=\"dataframe\">\n",
              "  <thead>\n",
              "    <tr style=\"text-align: right;\">\n",
              "      <th></th>\n",
              "      <th>price</th>\n",
              "      <th>object</th>\n",
              "    </tr>\n",
              "  </thead>\n",
              "  <tbody>\n",
              "    <tr>\n",
              "      <th>0</th>\n",
              "      <td>15.0</td>\n",
              "      <td>ring</td>\n",
              "    </tr>\n",
              "    <tr>\n",
              "      <th>1</th>\n",
              "      <td>12.0</td>\n",
              "      <td>eraser</td>\n",
              "    </tr>\n",
              "    <tr>\n",
              "      <th>2</th>\n",
              "      <td>63.0</td>\n",
              "      <td>pencil</td>\n",
              "    </tr>\n",
              "    <tr>\n",
              "      <th>3</th>\n",
              "      <td>1.4</td>\n",
              "      <td>paper</td>\n",
              "    </tr>\n",
              "    <tr>\n",
              "      <th>4</th>\n",
              "      <td>190.0</td>\n",
              "      <td>cup</td>\n",
              "    </tr>\n",
              "  </tbody>\n",
              "</table>\n",
              "</div>\n",
              "      <button class=\"colab-df-convert\" onclick=\"convertToInteractive('df-5fac3dad-cb8d-4081-952d-03dbbec6acb6')\"\n",
              "              title=\"Convert this dataframe to an interactive table.\"\n",
              "              style=\"display:none;\">\n",
              "        \n",
              "  <svg xmlns=\"http://www.w3.org/2000/svg\" height=\"24px\"viewBox=\"0 0 24 24\"\n",
              "       width=\"24px\">\n",
              "    <path d=\"M0 0h24v24H0V0z\" fill=\"none\"/>\n",
              "    <path d=\"M18.56 5.44l.94 2.06.94-2.06 2.06-.94-2.06-.94-.94-2.06-.94 2.06-2.06.94zm-11 1L8.5 8.5l.94-2.06 2.06-.94-2.06-.94L8.5 2.5l-.94 2.06-2.06.94zm10 10l.94 2.06.94-2.06 2.06-.94-2.06-.94-.94-2.06-.94 2.06-2.06.94z\"/><path d=\"M17.41 7.96l-1.37-1.37c-.4-.4-.92-.59-1.43-.59-.52 0-1.04.2-1.43.59L10.3 9.45l-7.72 7.72c-.78.78-.78 2.05 0 2.83L4 21.41c.39.39.9.59 1.41.59.51 0 1.02-.2 1.41-.59l7.78-7.78 2.81-2.81c.8-.78.8-2.07 0-2.86zM5.41 20L4 18.59l7.72-7.72 1.47 1.35L5.41 20z\"/>\n",
              "  </svg>\n",
              "      </button>\n",
              "      \n",
              "  <style>\n",
              "    .colab-df-container {\n",
              "      display:flex;\n",
              "      flex-wrap:wrap;\n",
              "      gap: 12px;\n",
              "    }\n",
              "\n",
              "    .colab-df-convert {\n",
              "      background-color: #E8F0FE;\n",
              "      border: none;\n",
              "      border-radius: 50%;\n",
              "      cursor: pointer;\n",
              "      display: none;\n",
              "      fill: #1967D2;\n",
              "      height: 32px;\n",
              "      padding: 0 0 0 0;\n",
              "      width: 32px;\n",
              "    }\n",
              "\n",
              "    .colab-df-convert:hover {\n",
              "      background-color: #E2EBFA;\n",
              "      box-shadow: 0px 1px 2px rgba(60, 64, 67, 0.3), 0px 1px 3px 1px rgba(60, 64, 67, 0.15);\n",
              "      fill: #174EA6;\n",
              "    }\n",
              "\n",
              "    [theme=dark] .colab-df-convert {\n",
              "      background-color: #3B4455;\n",
              "      fill: #D2E3FC;\n",
              "    }\n",
              "\n",
              "    [theme=dark] .colab-df-convert:hover {\n",
              "      background-color: #434B5C;\n",
              "      box-shadow: 0px 1px 3px 1px rgba(0, 0, 0, 0.15);\n",
              "      filter: drop-shadow(0px 1px 2px rgba(0, 0, 0, 0.3));\n",
              "      fill: #FFFFFF;\n",
              "    }\n",
              "  </style>\n",
              "\n",
              "      <script>\n",
              "        const buttonEl =\n",
              "          document.querySelector('#df-5fac3dad-cb8d-4081-952d-03dbbec6acb6 button.colab-df-convert');\n",
              "        buttonEl.style.display =\n",
              "          google.colab.kernel.accessAllowed ? 'block' : 'none';\n",
              "\n",
              "        async function convertToInteractive(key) {\n",
              "          const element = document.querySelector('#df-5fac3dad-cb8d-4081-952d-03dbbec6acb6');\n",
              "          const dataTable =\n",
              "            await google.colab.kernel.invokeFunction('convertToInteractive',\n",
              "                                                     [key], {});\n",
              "          if (!dataTable) return;\n",
              "\n",
              "          const docLinkHtml = 'Like what you see? Visit the ' +\n",
              "            '<a target=\"_blank\" href=https://colab.research.google.com/notebooks/data_table.ipynb>data table notebook</a>'\n",
              "            + ' to learn more about interactive tables.';\n",
              "          element.innerHTML = '';\n",
              "          dataTable['output_type'] = 'display_data';\n",
              "          await google.colab.output.renderOutput(dataTable, element);\n",
              "          const docLink = document.createElement('div');\n",
              "          docLink.innerHTML = docLinkHtml;\n",
              "          element.appendChild(docLink);\n",
              "        }\n",
              "      </script>\n",
              "    </div>\n",
              "  </div>\n",
              "  "
            ]
          },
          "metadata": {},
          "execution_count": 64
        }
      ],
      "source": [
        "# Select some columns when creating a data frame\n",
        "df = pd.DataFrame(data, columns = ['price','object'])\n",
        "df"
      ]
    },
    {
      "cell_type": "code",
      "execution_count": null,
      "metadata": {
        "id": "xaWN4z9lg-ES",
        "outputId": "8ba458e3-19ea-44bd-a953-96aa01ab3d3a",
        "colab": {
          "base_uri": "https://localhost:8080/",
          "height": 206
        }
      },
      "outputs": [
        {
          "output_type": "execute_result",
          "data": {
            "text/plain": [
              "        color  object  price\n",
              "one      blue    ring   15.0\n",
              "two     green  eraser   12.0\n",
              "three  yellow  pencil   63.0\n",
              "four      red   paper    1.4\n",
              "five    white     cup  190.0"
            ],
            "text/html": [
              "\n",
              "  <div id=\"df-44729037-ea18-430e-ae65-387e399fa6e7\">\n",
              "    <div class=\"colab-df-container\">\n",
              "      <div>\n",
              "<style scoped>\n",
              "    .dataframe tbody tr th:only-of-type {\n",
              "        vertical-align: middle;\n",
              "    }\n",
              "\n",
              "    .dataframe tbody tr th {\n",
              "        vertical-align: top;\n",
              "    }\n",
              "\n",
              "    .dataframe thead th {\n",
              "        text-align: right;\n",
              "    }\n",
              "</style>\n",
              "<table border=\"1\" class=\"dataframe\">\n",
              "  <thead>\n",
              "    <tr style=\"text-align: right;\">\n",
              "      <th></th>\n",
              "      <th>color</th>\n",
              "      <th>object</th>\n",
              "      <th>price</th>\n",
              "    </tr>\n",
              "  </thead>\n",
              "  <tbody>\n",
              "    <tr>\n",
              "      <th>one</th>\n",
              "      <td>blue</td>\n",
              "      <td>ring</td>\n",
              "      <td>15.0</td>\n",
              "    </tr>\n",
              "    <tr>\n",
              "      <th>two</th>\n",
              "      <td>green</td>\n",
              "      <td>eraser</td>\n",
              "      <td>12.0</td>\n",
              "    </tr>\n",
              "    <tr>\n",
              "      <th>three</th>\n",
              "      <td>yellow</td>\n",
              "      <td>pencil</td>\n",
              "      <td>63.0</td>\n",
              "    </tr>\n",
              "    <tr>\n",
              "      <th>four</th>\n",
              "      <td>red</td>\n",
              "      <td>paper</td>\n",
              "      <td>1.4</td>\n",
              "    </tr>\n",
              "    <tr>\n",
              "      <th>five</th>\n",
              "      <td>white</td>\n",
              "      <td>cup</td>\n",
              "      <td>190.0</td>\n",
              "    </tr>\n",
              "  </tbody>\n",
              "</table>\n",
              "</div>\n",
              "      <button class=\"colab-df-convert\" onclick=\"convertToInteractive('df-44729037-ea18-430e-ae65-387e399fa6e7')\"\n",
              "              title=\"Convert this dataframe to an interactive table.\"\n",
              "              style=\"display:none;\">\n",
              "        \n",
              "  <svg xmlns=\"http://www.w3.org/2000/svg\" height=\"24px\"viewBox=\"0 0 24 24\"\n",
              "       width=\"24px\">\n",
              "    <path d=\"M0 0h24v24H0V0z\" fill=\"none\"/>\n",
              "    <path d=\"M18.56 5.44l.94 2.06.94-2.06 2.06-.94-2.06-.94-.94-2.06-.94 2.06-2.06.94zm-11 1L8.5 8.5l.94-2.06 2.06-.94-2.06-.94L8.5 2.5l-.94 2.06-2.06.94zm10 10l.94 2.06.94-2.06 2.06-.94-2.06-.94-.94-2.06-.94 2.06-2.06.94z\"/><path d=\"M17.41 7.96l-1.37-1.37c-.4-.4-.92-.59-1.43-.59-.52 0-1.04.2-1.43.59L10.3 9.45l-7.72 7.72c-.78.78-.78 2.05 0 2.83L4 21.41c.39.39.9.59 1.41.59.51 0 1.02-.2 1.41-.59l7.78-7.78 2.81-2.81c.8-.78.8-2.07 0-2.86zM5.41 20L4 18.59l7.72-7.72 1.47 1.35L5.41 20z\"/>\n",
              "  </svg>\n",
              "      </button>\n",
              "      \n",
              "  <style>\n",
              "    .colab-df-container {\n",
              "      display:flex;\n",
              "      flex-wrap:wrap;\n",
              "      gap: 12px;\n",
              "    }\n",
              "\n",
              "    .colab-df-convert {\n",
              "      background-color: #E8F0FE;\n",
              "      border: none;\n",
              "      border-radius: 50%;\n",
              "      cursor: pointer;\n",
              "      display: none;\n",
              "      fill: #1967D2;\n",
              "      height: 32px;\n",
              "      padding: 0 0 0 0;\n",
              "      width: 32px;\n",
              "    }\n",
              "\n",
              "    .colab-df-convert:hover {\n",
              "      background-color: #E2EBFA;\n",
              "      box-shadow: 0px 1px 2px rgba(60, 64, 67, 0.3), 0px 1px 3px 1px rgba(60, 64, 67, 0.15);\n",
              "      fill: #174EA6;\n",
              "    }\n",
              "\n",
              "    [theme=dark] .colab-df-convert {\n",
              "      background-color: #3B4455;\n",
              "      fill: #D2E3FC;\n",
              "    }\n",
              "\n",
              "    [theme=dark] .colab-df-convert:hover {\n",
              "      background-color: #434B5C;\n",
              "      box-shadow: 0px 1px 3px 1px rgba(0, 0, 0, 0.15);\n",
              "      filter: drop-shadow(0px 1px 2px rgba(0, 0, 0, 0.3));\n",
              "      fill: #FFFFFF;\n",
              "    }\n",
              "  </style>\n",
              "\n",
              "      <script>\n",
              "        const buttonEl =\n",
              "          document.querySelector('#df-44729037-ea18-430e-ae65-387e399fa6e7 button.colab-df-convert');\n",
              "        buttonEl.style.display =\n",
              "          google.colab.kernel.accessAllowed ? 'block' : 'none';\n",
              "\n",
              "        async function convertToInteractive(key) {\n",
              "          const element = document.querySelector('#df-44729037-ea18-430e-ae65-387e399fa6e7');\n",
              "          const dataTable =\n",
              "            await google.colab.kernel.invokeFunction('convertToInteractive',\n",
              "                                                     [key], {});\n",
              "          if (!dataTable) return;\n",
              "\n",
              "          const docLinkHtml = 'Like what you see? Visit the ' +\n",
              "            '<a target=\"_blank\" href=https://colab.research.google.com/notebooks/data_table.ipynb>data table notebook</a>'\n",
              "            + ' to learn more about interactive tables.';\n",
              "          element.innerHTML = '';\n",
              "          dataTable['output_type'] = 'display_data';\n",
              "          await google.colab.output.renderOutput(dataTable, element);\n",
              "          const docLink = document.createElement('div');\n",
              "          docLink.innerHTML = docLinkHtml;\n",
              "          element.appendChild(docLink);\n",
              "        }\n",
              "      </script>\n",
              "    </div>\n",
              "  </div>\n",
              "  "
            ]
          },
          "metadata": {},
          "execution_count": 66
        }
      ],
      "source": [
        "# Use your own indices\n",
        "df = pd.DataFrame(data,index=['one','two','three','four','five'])\n",
        "df"
      ]
    },
    {
      "cell_type": "code",
      "execution_count": null,
      "metadata": {
        "id": "Pc1a4rVUg-ES",
        "outputId": "c5788c5f-76cb-4e03-b750-5cc7d69f07e5",
        "colab": {
          "base_uri": "https://localhost:8080/",
          "height": 397
        }
      },
      "outputs": [
        {
          "output_type": "stream",
          "name": "stdout",
          "text": [
            "Index(['color', 'object', 'price'], dtype='object')\n",
            "Index(['one', 'two', 'three', 'four', 'five'], dtype='object')\n",
            "\n",
            "Selection: \n",
            "one        ring\n",
            "two      eraser\n",
            "three    pencil\n",
            "four      paper\n",
            "five        cup\n",
            "Name: object, dtype: object\n",
            "\n"
          ]
        },
        {
          "output_type": "execute_result",
          "data": {
            "text/plain": [
              "       object   color\n",
              "one      ring    blue\n",
              "two    eraser   green\n",
              "three  pencil  yellow\n",
              "four    paper     red\n",
              "five      cup   white"
            ],
            "text/html": [
              "\n",
              "  <div id=\"df-3d917804-fb06-46e2-a082-c909708fea13\">\n",
              "    <div class=\"colab-df-container\">\n",
              "      <div>\n",
              "<style scoped>\n",
              "    .dataframe tbody tr th:only-of-type {\n",
              "        vertical-align: middle;\n",
              "    }\n",
              "\n",
              "    .dataframe tbody tr th {\n",
              "        vertical-align: top;\n",
              "    }\n",
              "\n",
              "    .dataframe thead th {\n",
              "        text-align: right;\n",
              "    }\n",
              "</style>\n",
              "<table border=\"1\" class=\"dataframe\">\n",
              "  <thead>\n",
              "    <tr style=\"text-align: right;\">\n",
              "      <th></th>\n",
              "      <th>object</th>\n",
              "      <th>color</th>\n",
              "    </tr>\n",
              "  </thead>\n",
              "  <tbody>\n",
              "    <tr>\n",
              "      <th>one</th>\n",
              "      <td>ring</td>\n",
              "      <td>blue</td>\n",
              "    </tr>\n",
              "    <tr>\n",
              "      <th>two</th>\n",
              "      <td>eraser</td>\n",
              "      <td>green</td>\n",
              "    </tr>\n",
              "    <tr>\n",
              "      <th>three</th>\n",
              "      <td>pencil</td>\n",
              "      <td>yellow</td>\n",
              "    </tr>\n",
              "    <tr>\n",
              "      <th>four</th>\n",
              "      <td>paper</td>\n",
              "      <td>red</td>\n",
              "    </tr>\n",
              "    <tr>\n",
              "      <th>five</th>\n",
              "      <td>cup</td>\n",
              "      <td>white</td>\n",
              "    </tr>\n",
              "  </tbody>\n",
              "</table>\n",
              "</div>\n",
              "      <button class=\"colab-df-convert\" onclick=\"convertToInteractive('df-3d917804-fb06-46e2-a082-c909708fea13')\"\n",
              "              title=\"Convert this dataframe to an interactive table.\"\n",
              "              style=\"display:none;\">\n",
              "        \n",
              "  <svg xmlns=\"http://www.w3.org/2000/svg\" height=\"24px\"viewBox=\"0 0 24 24\"\n",
              "       width=\"24px\">\n",
              "    <path d=\"M0 0h24v24H0V0z\" fill=\"none\"/>\n",
              "    <path d=\"M18.56 5.44l.94 2.06.94-2.06 2.06-.94-2.06-.94-.94-2.06-.94 2.06-2.06.94zm-11 1L8.5 8.5l.94-2.06 2.06-.94-2.06-.94L8.5 2.5l-.94 2.06-2.06.94zm10 10l.94 2.06.94-2.06 2.06-.94-2.06-.94-.94-2.06-.94 2.06-2.06.94z\"/><path d=\"M17.41 7.96l-1.37-1.37c-.4-.4-.92-.59-1.43-.59-.52 0-1.04.2-1.43.59L10.3 9.45l-7.72 7.72c-.78.78-.78 2.05 0 2.83L4 21.41c.39.39.9.59 1.41.59.51 0 1.02-.2 1.41-.59l7.78-7.78 2.81-2.81c.8-.78.8-2.07 0-2.86zM5.41 20L4 18.59l7.72-7.72 1.47 1.35L5.41 20z\"/>\n",
              "  </svg>\n",
              "      </button>\n",
              "      \n",
              "  <style>\n",
              "    .colab-df-container {\n",
              "      display:flex;\n",
              "      flex-wrap:wrap;\n",
              "      gap: 12px;\n",
              "    }\n",
              "\n",
              "    .colab-df-convert {\n",
              "      background-color: #E8F0FE;\n",
              "      border: none;\n",
              "      border-radius: 50%;\n",
              "      cursor: pointer;\n",
              "      display: none;\n",
              "      fill: #1967D2;\n",
              "      height: 32px;\n",
              "      padding: 0 0 0 0;\n",
              "      width: 32px;\n",
              "    }\n",
              "\n",
              "    .colab-df-convert:hover {\n",
              "      background-color: #E2EBFA;\n",
              "      box-shadow: 0px 1px 2px rgba(60, 64, 67, 0.3), 0px 1px 3px 1px rgba(60, 64, 67, 0.15);\n",
              "      fill: #174EA6;\n",
              "    }\n",
              "\n",
              "    [theme=dark] .colab-df-convert {\n",
              "      background-color: #3B4455;\n",
              "      fill: #D2E3FC;\n",
              "    }\n",
              "\n",
              "    [theme=dark] .colab-df-convert:hover {\n",
              "      background-color: #434B5C;\n",
              "      box-shadow: 0px 1px 3px 1px rgba(0, 0, 0, 0.15);\n",
              "      filter: drop-shadow(0px 1px 2px rgba(0, 0, 0, 0.3));\n",
              "      fill: #FFFFFF;\n",
              "    }\n",
              "  </style>\n",
              "\n",
              "      <script>\n",
              "        const buttonEl =\n",
              "          document.querySelector('#df-3d917804-fb06-46e2-a082-c909708fea13 button.colab-df-convert');\n",
              "        buttonEl.style.display =\n",
              "          google.colab.kernel.accessAllowed ? 'block' : 'none';\n",
              "\n",
              "        async function convertToInteractive(key) {\n",
              "          const element = document.querySelector('#df-3d917804-fb06-46e2-a082-c909708fea13');\n",
              "          const dataTable =\n",
              "            await google.colab.kernel.invokeFunction('convertToInteractive',\n",
              "                                                     [key], {});\n",
              "          if (!dataTable) return;\n",
              "\n",
              "          const docLinkHtml = 'Like what you see? Visit the ' +\n",
              "            '<a target=\"_blank\" href=https://colab.research.google.com/notebooks/data_table.ipynb>data table notebook</a>'\n",
              "            + ' to learn more about interactive tables.';\n",
              "          element.innerHTML = '';\n",
              "          dataTable['output_type'] = 'display_data';\n",
              "          await google.colab.output.renderOutput(dataTable, element);\n",
              "          const docLink = document.createElement('div');\n",
              "          docLink.innerHTML = docLinkHtml;\n",
              "          element.appendChild(docLink);\n",
              "        }\n",
              "      </script>\n",
              "    </div>\n",
              "  </div>\n",
              "  "
            ]
          },
          "metadata": {},
          "execution_count": 67
        }
      ],
      "source": [
        "# get some attributes\n",
        "print(df.columns)\n",
        "print(df.index)\n",
        "\n",
        "# select a particular column\n",
        "print(\"\\nSelection: \")\n",
        "print(df['object'])\n",
        "print()\n",
        "df[['object', 'color']]\n"
      ]
    },
    {
      "cell_type": "code",
      "execution_count": null,
      "metadata": {
        "id": "ZaE1pjghg-ET",
        "outputId": "255417c2-f93b-44bc-b431-d75d021bc988",
        "colab": {
          "base_uri": "https://localhost:8080/"
        }
      },
      "outputs": [
        {
          "output_type": "stream",
          "name": "stdout",
          "text": [
            "        color  object  price\n",
            "one      blue    ring   15.0\n",
            "two     green  eraser   12.0\n",
            "three  yellow  pencil   63.0\n",
            "four      red   paper    1.4\n",
            "five    white     cup  190.0\n",
            "\n",
            "Row selection: \n"
          ]
        },
        {
          "output_type": "execute_result",
          "data": {
            "text/plain": [
              "color     yellow\n",
              "object    pencil\n",
              "price       63.0\n",
              "Name: three, dtype: object"
            ]
          },
          "metadata": {},
          "execution_count": 68
        }
      ],
      "source": [
        "# select some rows\n",
        "print(df)\n",
        "print(\"\\nRow selection: \")\n",
        "df.iloc[2]   # positional indexing (integer location indexing)\n"
      ]
    },
    {
      "cell_type": "code",
      "execution_count": null,
      "metadata": {
        "id": "kIm0J5sEg-ET",
        "outputId": "6f8193d8-bf62-4833-b8f6-fd2ccbd7b6aa",
        "colab": {
          "base_uri": "https://localhost:8080/"
        }
      },
      "outputs": [
        {
          "output_type": "stream",
          "name": "stdout",
          "text": [
            "Row selection with label: \n"
          ]
        },
        {
          "output_type": "execute_result",
          "data": {
            "text/plain": [
              "color     white\n",
              "object      cup\n",
              "price     190.0\n",
              "Name: five, dtype: object"
            ]
          },
          "metadata": {},
          "execution_count": 69
        }
      ],
      "source": [
        "# or select row with label\n",
        "print(\"Row selection with label: \")\n",
        "df.loc['five']"
      ]
    },
    {
      "cell_type": "code",
      "execution_count": null,
      "metadata": {
        "id": "4iuH_cmBg-ET",
        "outputId": "8acbf8f0-2c4b-4a07-e746-c7ffdc399f6c",
        "colab": {
          "base_uri": "https://localhost:8080/",
          "height": 251
        }
      },
      "outputs": [
        {
          "output_type": "stream",
          "name": "stdout",
          "text": [
            "        color  object  price\n",
            "one      blue    ring   15.0\n",
            "two     green  eraser   12.0\n",
            "three  yellow  pencil   63.0\n",
            "four      red   paper    1.4\n",
            "five    white     cup  190.0\n",
            "\n",
            " Some row selection: \n"
          ]
        },
        {
          "output_type": "execute_result",
          "data": {
            "text/plain": [
              "        color  object  price\n",
              "two     green  eraser   12.0\n",
              "three  yellow  pencil   63.0"
            ],
            "text/html": [
              "\n",
              "  <div id=\"df-d8e12dad-0742-4599-bcdd-59b43b5c7cbf\">\n",
              "    <div class=\"colab-df-container\">\n",
              "      <div>\n",
              "<style scoped>\n",
              "    .dataframe tbody tr th:only-of-type {\n",
              "        vertical-align: middle;\n",
              "    }\n",
              "\n",
              "    .dataframe tbody tr th {\n",
              "        vertical-align: top;\n",
              "    }\n",
              "\n",
              "    .dataframe thead th {\n",
              "        text-align: right;\n",
              "    }\n",
              "</style>\n",
              "<table border=\"1\" class=\"dataframe\">\n",
              "  <thead>\n",
              "    <tr style=\"text-align: right;\">\n",
              "      <th></th>\n",
              "      <th>color</th>\n",
              "      <th>object</th>\n",
              "      <th>price</th>\n",
              "    </tr>\n",
              "  </thead>\n",
              "  <tbody>\n",
              "    <tr>\n",
              "      <th>two</th>\n",
              "      <td>green</td>\n",
              "      <td>eraser</td>\n",
              "      <td>12.0</td>\n",
              "    </tr>\n",
              "    <tr>\n",
              "      <th>three</th>\n",
              "      <td>yellow</td>\n",
              "      <td>pencil</td>\n",
              "      <td>63.0</td>\n",
              "    </tr>\n",
              "  </tbody>\n",
              "</table>\n",
              "</div>\n",
              "      <button class=\"colab-df-convert\" onclick=\"convertToInteractive('df-d8e12dad-0742-4599-bcdd-59b43b5c7cbf')\"\n",
              "              title=\"Convert this dataframe to an interactive table.\"\n",
              "              style=\"display:none;\">\n",
              "        \n",
              "  <svg xmlns=\"http://www.w3.org/2000/svg\" height=\"24px\"viewBox=\"0 0 24 24\"\n",
              "       width=\"24px\">\n",
              "    <path d=\"M0 0h24v24H0V0z\" fill=\"none\"/>\n",
              "    <path d=\"M18.56 5.44l.94 2.06.94-2.06 2.06-.94-2.06-.94-.94-2.06-.94 2.06-2.06.94zm-11 1L8.5 8.5l.94-2.06 2.06-.94-2.06-.94L8.5 2.5l-.94 2.06-2.06.94zm10 10l.94 2.06.94-2.06 2.06-.94-2.06-.94-.94-2.06-.94 2.06-2.06.94z\"/><path d=\"M17.41 7.96l-1.37-1.37c-.4-.4-.92-.59-1.43-.59-.52 0-1.04.2-1.43.59L10.3 9.45l-7.72 7.72c-.78.78-.78 2.05 0 2.83L4 21.41c.39.39.9.59 1.41.59.51 0 1.02-.2 1.41-.59l7.78-7.78 2.81-2.81c.8-.78.8-2.07 0-2.86zM5.41 20L4 18.59l7.72-7.72 1.47 1.35L5.41 20z\"/>\n",
              "  </svg>\n",
              "      </button>\n",
              "      \n",
              "  <style>\n",
              "    .colab-df-container {\n",
              "      display:flex;\n",
              "      flex-wrap:wrap;\n",
              "      gap: 12px;\n",
              "    }\n",
              "\n",
              "    .colab-df-convert {\n",
              "      background-color: #E8F0FE;\n",
              "      border: none;\n",
              "      border-radius: 50%;\n",
              "      cursor: pointer;\n",
              "      display: none;\n",
              "      fill: #1967D2;\n",
              "      height: 32px;\n",
              "      padding: 0 0 0 0;\n",
              "      width: 32px;\n",
              "    }\n",
              "\n",
              "    .colab-df-convert:hover {\n",
              "      background-color: #E2EBFA;\n",
              "      box-shadow: 0px 1px 2px rgba(60, 64, 67, 0.3), 0px 1px 3px 1px rgba(60, 64, 67, 0.15);\n",
              "      fill: #174EA6;\n",
              "    }\n",
              "\n",
              "    [theme=dark] .colab-df-convert {\n",
              "      background-color: #3B4455;\n",
              "      fill: #D2E3FC;\n",
              "    }\n",
              "\n",
              "    [theme=dark] .colab-df-convert:hover {\n",
              "      background-color: #434B5C;\n",
              "      box-shadow: 0px 1px 3px 1px rgba(0, 0, 0, 0.15);\n",
              "      filter: drop-shadow(0px 1px 2px rgba(0, 0, 0, 0.3));\n",
              "      fill: #FFFFFF;\n",
              "    }\n",
              "  </style>\n",
              "\n",
              "      <script>\n",
              "        const buttonEl =\n",
              "          document.querySelector('#df-d8e12dad-0742-4599-bcdd-59b43b5c7cbf button.colab-df-convert');\n",
              "        buttonEl.style.display =\n",
              "          google.colab.kernel.accessAllowed ? 'block' : 'none';\n",
              "\n",
              "        async function convertToInteractive(key) {\n",
              "          const element = document.querySelector('#df-d8e12dad-0742-4599-bcdd-59b43b5c7cbf');\n",
              "          const dataTable =\n",
              "            await google.colab.kernel.invokeFunction('convertToInteractive',\n",
              "                                                     [key], {});\n",
              "          if (!dataTable) return;\n",
              "\n",
              "          const docLinkHtml = 'Like what you see? Visit the ' +\n",
              "            '<a target=\"_blank\" href=https://colab.research.google.com/notebooks/data_table.ipynb>data table notebook</a>'\n",
              "            + ' to learn more about interactive tables.';\n",
              "          element.innerHTML = '';\n",
              "          dataTable['output_type'] = 'display_data';\n",
              "          await google.colab.output.renderOutput(dataTable, element);\n",
              "          const docLink = document.createElement('div');\n",
              "          docLink.innerHTML = docLinkHtml;\n",
              "          element.appendChild(docLink);\n",
              "        }\n",
              "      </script>\n",
              "    </div>\n",
              "  </div>\n",
              "  "
            ]
          },
          "metadata": {},
          "execution_count": 70
        }
      ],
      "source": [
        "# positional indexing\n",
        "print(df)\n",
        "print(\"\\n Some row selection: \")\n",
        "df.iloc[1:3] # slice; start to stop less one"
      ]
    },
    {
      "cell_type": "code",
      "execution_count": null,
      "metadata": {
        "id": "sXIt1zLJg-ET",
        "outputId": "dfaf8ffb-5d99-4b9e-e9d4-7558eccaea67",
        "colab": {
          "base_uri": "https://localhost:8080/",
          "height": 129
        }
      },
      "outputs": [
        {
          "output_type": "stream",
          "name": "stdout",
          "text": [
            "Sepecific row selection: \n"
          ]
        },
        {
          "output_type": "execute_result",
          "data": {
            "text/plain": [
              "      color object  price\n",
              "one    blue   ring   15.0\n",
              "five  white    cup  190.0"
            ],
            "text/html": [
              "\n",
              "  <div id=\"df-d55ad73a-ef00-40cc-8abc-0626aeb427ce\">\n",
              "    <div class=\"colab-df-container\">\n",
              "      <div>\n",
              "<style scoped>\n",
              "    .dataframe tbody tr th:only-of-type {\n",
              "        vertical-align: middle;\n",
              "    }\n",
              "\n",
              "    .dataframe tbody tr th {\n",
              "        vertical-align: top;\n",
              "    }\n",
              "\n",
              "    .dataframe thead th {\n",
              "        text-align: right;\n",
              "    }\n",
              "</style>\n",
              "<table border=\"1\" class=\"dataframe\">\n",
              "  <thead>\n",
              "    <tr style=\"text-align: right;\">\n",
              "      <th></th>\n",
              "      <th>color</th>\n",
              "      <th>object</th>\n",
              "      <th>price</th>\n",
              "    </tr>\n",
              "  </thead>\n",
              "  <tbody>\n",
              "    <tr>\n",
              "      <th>one</th>\n",
              "      <td>blue</td>\n",
              "      <td>ring</td>\n",
              "      <td>15.0</td>\n",
              "    </tr>\n",
              "    <tr>\n",
              "      <th>five</th>\n",
              "      <td>white</td>\n",
              "      <td>cup</td>\n",
              "      <td>190.0</td>\n",
              "    </tr>\n",
              "  </tbody>\n",
              "</table>\n",
              "</div>\n",
              "      <button class=\"colab-df-convert\" onclick=\"convertToInteractive('df-d55ad73a-ef00-40cc-8abc-0626aeb427ce')\"\n",
              "              title=\"Convert this dataframe to an interactive table.\"\n",
              "              style=\"display:none;\">\n",
              "        \n",
              "  <svg xmlns=\"http://www.w3.org/2000/svg\" height=\"24px\"viewBox=\"0 0 24 24\"\n",
              "       width=\"24px\">\n",
              "    <path d=\"M0 0h24v24H0V0z\" fill=\"none\"/>\n",
              "    <path d=\"M18.56 5.44l.94 2.06.94-2.06 2.06-.94-2.06-.94-.94-2.06-.94 2.06-2.06.94zm-11 1L8.5 8.5l.94-2.06 2.06-.94-2.06-.94L8.5 2.5l-.94 2.06-2.06.94zm10 10l.94 2.06.94-2.06 2.06-.94-2.06-.94-.94-2.06-.94 2.06-2.06.94z\"/><path d=\"M17.41 7.96l-1.37-1.37c-.4-.4-.92-.59-1.43-.59-.52 0-1.04.2-1.43.59L10.3 9.45l-7.72 7.72c-.78.78-.78 2.05 0 2.83L4 21.41c.39.39.9.59 1.41.59.51 0 1.02-.2 1.41-.59l7.78-7.78 2.81-2.81c.8-.78.8-2.07 0-2.86zM5.41 20L4 18.59l7.72-7.72 1.47 1.35L5.41 20z\"/>\n",
              "  </svg>\n",
              "      </button>\n",
              "      \n",
              "  <style>\n",
              "    .colab-df-container {\n",
              "      display:flex;\n",
              "      flex-wrap:wrap;\n",
              "      gap: 12px;\n",
              "    }\n",
              "\n",
              "    .colab-df-convert {\n",
              "      background-color: #E8F0FE;\n",
              "      border: none;\n",
              "      border-radius: 50%;\n",
              "      cursor: pointer;\n",
              "      display: none;\n",
              "      fill: #1967D2;\n",
              "      height: 32px;\n",
              "      padding: 0 0 0 0;\n",
              "      width: 32px;\n",
              "    }\n",
              "\n",
              "    .colab-df-convert:hover {\n",
              "      background-color: #E2EBFA;\n",
              "      box-shadow: 0px 1px 2px rgba(60, 64, 67, 0.3), 0px 1px 3px 1px rgba(60, 64, 67, 0.15);\n",
              "      fill: #174EA6;\n",
              "    }\n",
              "\n",
              "    [theme=dark] .colab-df-convert {\n",
              "      background-color: #3B4455;\n",
              "      fill: #D2E3FC;\n",
              "    }\n",
              "\n",
              "    [theme=dark] .colab-df-convert:hover {\n",
              "      background-color: #434B5C;\n",
              "      box-shadow: 0px 1px 3px 1px rgba(0, 0, 0, 0.15);\n",
              "      filter: drop-shadow(0px 1px 2px rgba(0, 0, 0, 0.3));\n",
              "      fill: #FFFFFF;\n",
              "    }\n",
              "  </style>\n",
              "\n",
              "      <script>\n",
              "        const buttonEl =\n",
              "          document.querySelector('#df-d55ad73a-ef00-40cc-8abc-0626aeb427ce button.colab-df-convert');\n",
              "        buttonEl.style.display =\n",
              "          google.colab.kernel.accessAllowed ? 'block' : 'none';\n",
              "\n",
              "        async function convertToInteractive(key) {\n",
              "          const element = document.querySelector('#df-d55ad73a-ef00-40cc-8abc-0626aeb427ce');\n",
              "          const dataTable =\n",
              "            await google.colab.kernel.invokeFunction('convertToInteractive',\n",
              "                                                     [key], {});\n",
              "          if (!dataTable) return;\n",
              "\n",
              "          const docLinkHtml = 'Like what you see? Visit the ' +\n",
              "            '<a target=\"_blank\" href=https://colab.research.google.com/notebooks/data_table.ipynb>data table notebook</a>'\n",
              "            + ' to learn more about interactive tables.';\n",
              "          element.innerHTML = '';\n",
              "          dataTable['output_type'] = 'display_data';\n",
              "          await google.colab.output.renderOutput(dataTable, element);\n",
              "          const docLink = document.createElement('div');\n",
              "          docLink.innerHTML = docLinkHtml;\n",
              "          element.appendChild(docLink);\n",
              "        }\n",
              "      </script>\n",
              "    </div>\n",
              "  </div>\n",
              "  "
            ]
          },
          "metadata": {},
          "execution_count": 71
        }
      ],
      "source": [
        "# select row 0th and 4th\n",
        "print(\"Sepecific row selection: \")\n",
        "df.iloc[[0,4]]"
      ]
    },
    {
      "cell_type": "code",
      "execution_count": null,
      "metadata": {
        "id": "6hvZ0fGDg-ET",
        "outputId": "4f59b81a-5d35-4639-cb0a-a599faa8f401",
        "colab": {
          "base_uri": "https://localhost:8080/"
        }
      },
      "outputs": [
        {
          "output_type": "stream",
          "name": "stdout",
          "text": [
            "        color  object  price\n",
            "one      blue    ring   15.0\n",
            "two     green  eraser   12.0\n",
            "three  yellow  pencil   63.0\n",
            "four      red   paper    1.4\n",
            "five    white     cup  190.0\n",
            "\n",
            "Select 'color' column and the 3rd index row:\n",
            "red\n",
            "\n",
            "red\n"
          ]
        }
      ],
      "source": [
        "# select a particular cell;\n",
        "# first use the name of the column and then the index or the label of the row\n",
        "print(df)\n",
        "print(\"\\nSelect 'color' column and the 3rd index row:\")\n",
        "print(df['color'][3])\n",
        "print()\n",
        "print(df['color']['four'])\n"
      ]
    },
    {
      "cell_type": "code",
      "execution_count": null,
      "metadata": {
        "id": "o-ZfYMRng-EU",
        "colab": {
          "base_uri": "https://localhost:8080/",
          "height": 423
        },
        "outputId": "5f1682b5-6d85-4f45-85be-7c2f8a5f259d"
      },
      "outputs": [
        {
          "output_type": "execute_result",
          "data": {
            "text/plain": [
              "     PassengerId  Pclass                                          Name  \\\n",
              "0            892       3                              Kelly, Mr. James   \n",
              "1            893       3              Wilkes, Mrs. James (Ellen Needs)   \n",
              "2            894       2                     Myles, Mr. Thomas Francis   \n",
              "3            895       3                              Wirz, Mr. Albert   \n",
              "4            896       3  Hirvonen, Mrs. Alexander (Helga E Lindqvist)   \n",
              "..           ...     ...                                           ...   \n",
              "413         1305       3                            Spector, Mr. Woolf   \n",
              "414         1306       1                  Oliva y Ocana, Dona. Fermina   \n",
              "415         1307       3                  Saether, Mr. Simon Sivertsen   \n",
              "416         1308       3                           Ware, Mr. Frederick   \n",
              "417         1309       3                      Peter, Master. Michael J   \n",
              "\n",
              "        Sex   Age  SibSp  Parch              Ticket      Fare Cabin Embarked  \n",
              "0      male  34.5      0      0              330911    7.8292   NaN        Q  \n",
              "1    female  47.0      1      0              363272    7.0000   NaN        S  \n",
              "2      male  62.0      0      0              240276    9.6875   NaN        Q  \n",
              "3      male  27.0      0      0              315154    8.6625   NaN        S  \n",
              "4    female  22.0      1      1             3101298   12.2875   NaN        S  \n",
              "..      ...   ...    ...    ...                 ...       ...   ...      ...  \n",
              "413    male   NaN      0      0           A.5. 3236    8.0500   NaN        S  \n",
              "414  female  39.0      0      0            PC 17758  108.9000  C105        C  \n",
              "415    male  38.5      0      0  SOTON/O.Q. 3101262    7.2500   NaN        S  \n",
              "416    male   NaN      0      0              359309    8.0500   NaN        S  \n",
              "417    male   NaN      1      1                2668   22.3583   NaN        C  \n",
              "\n",
              "[418 rows x 11 columns]"
            ],
            "text/html": [
              "\n",
              "  <div id=\"df-5f4b089f-967e-4019-82ff-769a05a4d58b\">\n",
              "    <div class=\"colab-df-container\">\n",
              "      <div>\n",
              "<style scoped>\n",
              "    .dataframe tbody tr th:only-of-type {\n",
              "        vertical-align: middle;\n",
              "    }\n",
              "\n",
              "    .dataframe tbody tr th {\n",
              "        vertical-align: top;\n",
              "    }\n",
              "\n",
              "    .dataframe thead th {\n",
              "        text-align: right;\n",
              "    }\n",
              "</style>\n",
              "<table border=\"1\" class=\"dataframe\">\n",
              "  <thead>\n",
              "    <tr style=\"text-align: right;\">\n",
              "      <th></th>\n",
              "      <th>PassengerId</th>\n",
              "      <th>Pclass</th>\n",
              "      <th>Name</th>\n",
              "      <th>Sex</th>\n",
              "      <th>Age</th>\n",
              "      <th>SibSp</th>\n",
              "      <th>Parch</th>\n",
              "      <th>Ticket</th>\n",
              "      <th>Fare</th>\n",
              "      <th>Cabin</th>\n",
              "      <th>Embarked</th>\n",
              "    </tr>\n",
              "  </thead>\n",
              "  <tbody>\n",
              "    <tr>\n",
              "      <th>0</th>\n",
              "      <td>892</td>\n",
              "      <td>3</td>\n",
              "      <td>Kelly, Mr. James</td>\n",
              "      <td>male</td>\n",
              "      <td>34.5</td>\n",
              "      <td>0</td>\n",
              "      <td>0</td>\n",
              "      <td>330911</td>\n",
              "      <td>7.8292</td>\n",
              "      <td>NaN</td>\n",
              "      <td>Q</td>\n",
              "    </tr>\n",
              "    <tr>\n",
              "      <th>1</th>\n",
              "      <td>893</td>\n",
              "      <td>3</td>\n",
              "      <td>Wilkes, Mrs. James (Ellen Needs)</td>\n",
              "      <td>female</td>\n",
              "      <td>47.0</td>\n",
              "      <td>1</td>\n",
              "      <td>0</td>\n",
              "      <td>363272</td>\n",
              "      <td>7.0000</td>\n",
              "      <td>NaN</td>\n",
              "      <td>S</td>\n",
              "    </tr>\n",
              "    <tr>\n",
              "      <th>2</th>\n",
              "      <td>894</td>\n",
              "      <td>2</td>\n",
              "      <td>Myles, Mr. Thomas Francis</td>\n",
              "      <td>male</td>\n",
              "      <td>62.0</td>\n",
              "      <td>0</td>\n",
              "      <td>0</td>\n",
              "      <td>240276</td>\n",
              "      <td>9.6875</td>\n",
              "      <td>NaN</td>\n",
              "      <td>Q</td>\n",
              "    </tr>\n",
              "    <tr>\n",
              "      <th>3</th>\n",
              "      <td>895</td>\n",
              "      <td>3</td>\n",
              "      <td>Wirz, Mr. Albert</td>\n",
              "      <td>male</td>\n",
              "      <td>27.0</td>\n",
              "      <td>0</td>\n",
              "      <td>0</td>\n",
              "      <td>315154</td>\n",
              "      <td>8.6625</td>\n",
              "      <td>NaN</td>\n",
              "      <td>S</td>\n",
              "    </tr>\n",
              "    <tr>\n",
              "      <th>4</th>\n",
              "      <td>896</td>\n",
              "      <td>3</td>\n",
              "      <td>Hirvonen, Mrs. Alexander (Helga E Lindqvist)</td>\n",
              "      <td>female</td>\n",
              "      <td>22.0</td>\n",
              "      <td>1</td>\n",
              "      <td>1</td>\n",
              "      <td>3101298</td>\n",
              "      <td>12.2875</td>\n",
              "      <td>NaN</td>\n",
              "      <td>S</td>\n",
              "    </tr>\n",
              "    <tr>\n",
              "      <th>...</th>\n",
              "      <td>...</td>\n",
              "      <td>...</td>\n",
              "      <td>...</td>\n",
              "      <td>...</td>\n",
              "      <td>...</td>\n",
              "      <td>...</td>\n",
              "      <td>...</td>\n",
              "      <td>...</td>\n",
              "      <td>...</td>\n",
              "      <td>...</td>\n",
              "      <td>...</td>\n",
              "    </tr>\n",
              "    <tr>\n",
              "      <th>413</th>\n",
              "      <td>1305</td>\n",
              "      <td>3</td>\n",
              "      <td>Spector, Mr. Woolf</td>\n",
              "      <td>male</td>\n",
              "      <td>NaN</td>\n",
              "      <td>0</td>\n",
              "      <td>0</td>\n",
              "      <td>A.5. 3236</td>\n",
              "      <td>8.0500</td>\n",
              "      <td>NaN</td>\n",
              "      <td>S</td>\n",
              "    </tr>\n",
              "    <tr>\n",
              "      <th>414</th>\n",
              "      <td>1306</td>\n",
              "      <td>1</td>\n",
              "      <td>Oliva y Ocana, Dona. Fermina</td>\n",
              "      <td>female</td>\n",
              "      <td>39.0</td>\n",
              "      <td>0</td>\n",
              "      <td>0</td>\n",
              "      <td>PC 17758</td>\n",
              "      <td>108.9000</td>\n",
              "      <td>C105</td>\n",
              "      <td>C</td>\n",
              "    </tr>\n",
              "    <tr>\n",
              "      <th>415</th>\n",
              "      <td>1307</td>\n",
              "      <td>3</td>\n",
              "      <td>Saether, Mr. Simon Sivertsen</td>\n",
              "      <td>male</td>\n",
              "      <td>38.5</td>\n",
              "      <td>0</td>\n",
              "      <td>0</td>\n",
              "      <td>SOTON/O.Q. 3101262</td>\n",
              "      <td>7.2500</td>\n",
              "      <td>NaN</td>\n",
              "      <td>S</td>\n",
              "    </tr>\n",
              "    <tr>\n",
              "      <th>416</th>\n",
              "      <td>1308</td>\n",
              "      <td>3</td>\n",
              "      <td>Ware, Mr. Frederick</td>\n",
              "      <td>male</td>\n",
              "      <td>NaN</td>\n",
              "      <td>0</td>\n",
              "      <td>0</td>\n",
              "      <td>359309</td>\n",
              "      <td>8.0500</td>\n",
              "      <td>NaN</td>\n",
              "      <td>S</td>\n",
              "    </tr>\n",
              "    <tr>\n",
              "      <th>417</th>\n",
              "      <td>1309</td>\n",
              "      <td>3</td>\n",
              "      <td>Peter, Master. Michael J</td>\n",
              "      <td>male</td>\n",
              "      <td>NaN</td>\n",
              "      <td>1</td>\n",
              "      <td>1</td>\n",
              "      <td>2668</td>\n",
              "      <td>22.3583</td>\n",
              "      <td>NaN</td>\n",
              "      <td>C</td>\n",
              "    </tr>\n",
              "  </tbody>\n",
              "</table>\n",
              "<p>418 rows × 11 columns</p>\n",
              "</div>\n",
              "      <button class=\"colab-df-convert\" onclick=\"convertToInteractive('df-5f4b089f-967e-4019-82ff-769a05a4d58b')\"\n",
              "              title=\"Convert this dataframe to an interactive table.\"\n",
              "              style=\"display:none;\">\n",
              "        \n",
              "  <svg xmlns=\"http://www.w3.org/2000/svg\" height=\"24px\"viewBox=\"0 0 24 24\"\n",
              "       width=\"24px\">\n",
              "    <path d=\"M0 0h24v24H0V0z\" fill=\"none\"/>\n",
              "    <path d=\"M18.56 5.44l.94 2.06.94-2.06 2.06-.94-2.06-.94-.94-2.06-.94 2.06-2.06.94zm-11 1L8.5 8.5l.94-2.06 2.06-.94-2.06-.94L8.5 2.5l-.94 2.06-2.06.94zm10 10l.94 2.06.94-2.06 2.06-.94-2.06-.94-.94-2.06-.94 2.06-2.06.94z\"/><path d=\"M17.41 7.96l-1.37-1.37c-.4-.4-.92-.59-1.43-.59-.52 0-1.04.2-1.43.59L10.3 9.45l-7.72 7.72c-.78.78-.78 2.05 0 2.83L4 21.41c.39.39.9.59 1.41.59.51 0 1.02-.2 1.41-.59l7.78-7.78 2.81-2.81c.8-.78.8-2.07 0-2.86zM5.41 20L4 18.59l7.72-7.72 1.47 1.35L5.41 20z\"/>\n",
              "  </svg>\n",
              "      </button>\n",
              "      \n",
              "  <style>\n",
              "    .colab-df-container {\n",
              "      display:flex;\n",
              "      flex-wrap:wrap;\n",
              "      gap: 12px;\n",
              "    }\n",
              "\n",
              "    .colab-df-convert {\n",
              "      background-color: #E8F0FE;\n",
              "      border: none;\n",
              "      border-radius: 50%;\n",
              "      cursor: pointer;\n",
              "      display: none;\n",
              "      fill: #1967D2;\n",
              "      height: 32px;\n",
              "      padding: 0 0 0 0;\n",
              "      width: 32px;\n",
              "    }\n",
              "\n",
              "    .colab-df-convert:hover {\n",
              "      background-color: #E2EBFA;\n",
              "      box-shadow: 0px 1px 2px rgba(60, 64, 67, 0.3), 0px 1px 3px 1px rgba(60, 64, 67, 0.15);\n",
              "      fill: #174EA6;\n",
              "    }\n",
              "\n",
              "    [theme=dark] .colab-df-convert {\n",
              "      background-color: #3B4455;\n",
              "      fill: #D2E3FC;\n",
              "    }\n",
              "\n",
              "    [theme=dark] .colab-df-convert:hover {\n",
              "      background-color: #434B5C;\n",
              "      box-shadow: 0px 1px 3px 1px rgba(0, 0, 0, 0.15);\n",
              "      filter: drop-shadow(0px 1px 2px rgba(0, 0, 0, 0.3));\n",
              "      fill: #FFFFFF;\n",
              "    }\n",
              "  </style>\n",
              "\n",
              "      <script>\n",
              "        const buttonEl =\n",
              "          document.querySelector('#df-5f4b089f-967e-4019-82ff-769a05a4d58b button.colab-df-convert');\n",
              "        buttonEl.style.display =\n",
              "          google.colab.kernel.accessAllowed ? 'block' : 'none';\n",
              "\n",
              "        async function convertToInteractive(key) {\n",
              "          const element = document.querySelector('#df-5f4b089f-967e-4019-82ff-769a05a4d58b');\n",
              "          const dataTable =\n",
              "            await google.colab.kernel.invokeFunction('convertToInteractive',\n",
              "                                                     [key], {});\n",
              "          if (!dataTable) return;\n",
              "\n",
              "          const docLinkHtml = 'Like what you see? Visit the ' +\n",
              "            '<a target=\"_blank\" href=https://colab.research.google.com/notebooks/data_table.ipynb>data table notebook</a>'\n",
              "            + ' to learn more about interactive tables.';\n",
              "          element.innerHTML = '';\n",
              "          dataTable['output_type'] = 'display_data';\n",
              "          await google.colab.output.renderOutput(dataTable, element);\n",
              "          const docLink = document.createElement('div');\n",
              "          docLink.innerHTML = docLinkHtml;\n",
              "          element.appendChild(docLink);\n",
              "        }\n",
              "      </script>\n",
              "    </div>\n",
              "  </div>\n",
              "  "
            ]
          },
          "metadata": {},
          "execution_count": 74
        }
      ],
      "source": [
        "# Read in a CSV file\n",
        "# pd.set_option('display.max_rows', None) # set to None to show all rows\n",
        "\n",
        "# Source: https://www.kaggle.com/competitions/titanic/data\n",
        "tdat = pd.read_csv('/content/drive/MyDrive/Datasets (.csv)/test.csv')\n",
        "tdat\n"
      ]
    },
    {
      "cell_type": "code",
      "execution_count": null,
      "metadata": {
        "id": "ajh_uUdDg-EU",
        "outputId": "ddb16b42-c3e9-4022-8ee6-b53d9963d328",
        "colab": {
          "base_uri": "https://localhost:8080/"
        }
      },
      "outputs": [
        {
          "output_type": "execute_result",
          "data": {
            "text/plain": [
              "0                                  Kelly, Mr. James\n",
              "1                  Wilkes, Mrs. James (Ellen Needs)\n",
              "2                         Myles, Mr. Thomas Francis\n",
              "3                                  Wirz, Mr. Albert\n",
              "4      Hirvonen, Mrs. Alexander (Helga E Lindqvist)\n",
              "                           ...                     \n",
              "413                              Spector, Mr. Woolf\n",
              "414                    Oliva y Ocana, Dona. Fermina\n",
              "415                    Saether, Mr. Simon Sivertsen\n",
              "416                             Ware, Mr. Frederick\n",
              "417                        Peter, Master. Michael J\n",
              "Name: Name, Length: 418, dtype: object"
            ]
          },
          "metadata": {},
          "execution_count": 75
        }
      ],
      "source": [
        "# pd.set_option('display.max_rows', None)  # show all rows\n",
        "# display all names\n",
        "tdat['Name'][:]    # indicating the chosen column first, then followed by some given rows.\n"
      ]
    },
    {
      "cell_type": "code",
      "execution_count": null,
      "metadata": {
        "id": "PVe12RlZg-EU",
        "outputId": "dfa656b6-12e3-404d-d254-fd19969f54df",
        "colab": {
          "base_uri": "https://localhost:8080/",
          "height": 539
        }
      },
      "outputs": [
        {
          "output_type": "stream",
          "name": "stdout",
          "text": [
            "PassengerId                 892\n",
            "Pclass                        3\n",
            "Name           Kelly, Mr. James\n",
            "Sex                        male\n",
            "Age                        34.5\n",
            "SibSp                         0\n",
            "Parch                         0\n",
            "Ticket                   330911\n",
            "Fare                     7.8292\n",
            "Cabin                       NaN\n",
            "Embarked                      Q\n",
            "Name: 0, dtype: object\n",
            "\n",
            "   PassengerId  Pclass                       Name   Sex   Age  SibSp  Parch  \\\n",
            "0          892       3           Kelly, Mr. James  male  34.5      0      0   \n",
            "2          894       2  Myles, Mr. Thomas Francis  male  62.0      0      0   \n",
            "\n",
            "   Ticket    Fare Cabin Embarked  \n",
            "0  330911  7.8292   NaN        Q  \n",
            "2  240276  9.6875   NaN        Q  \n",
            "\n"
          ]
        },
        {
          "output_type": "execute_result",
          "data": {
            "text/plain": [
              "   PassengerId  Pclass                              Name     Sex   Age  SibSp  \\\n",
              "0          892       3                  Kelly, Mr. James    male  34.5      0   \n",
              "1          893       3  Wilkes, Mrs. James (Ellen Needs)  female  47.0      1   \n",
              "2          894       2         Myles, Mr. Thomas Francis    male  62.0      0   \n",
              "3          895       3                  Wirz, Mr. Albert    male  27.0      0   \n",
              "\n",
              "   Parch  Ticket    Fare Cabin Embarked  \n",
              "0      0  330911  7.8292   NaN        Q  \n",
              "1      0  363272  7.0000   NaN        S  \n",
              "2      0  240276  9.6875   NaN        Q  \n",
              "3      0  315154  8.6625   NaN        S  "
            ],
            "text/html": [
              "\n",
              "  <div id=\"df-33499ea7-1df9-4fd4-8b50-a2640038a1fa\">\n",
              "    <div class=\"colab-df-container\">\n",
              "      <div>\n",
              "<style scoped>\n",
              "    .dataframe tbody tr th:only-of-type {\n",
              "        vertical-align: middle;\n",
              "    }\n",
              "\n",
              "    .dataframe tbody tr th {\n",
              "        vertical-align: top;\n",
              "    }\n",
              "\n",
              "    .dataframe thead th {\n",
              "        text-align: right;\n",
              "    }\n",
              "</style>\n",
              "<table border=\"1\" class=\"dataframe\">\n",
              "  <thead>\n",
              "    <tr style=\"text-align: right;\">\n",
              "      <th></th>\n",
              "      <th>PassengerId</th>\n",
              "      <th>Pclass</th>\n",
              "      <th>Name</th>\n",
              "      <th>Sex</th>\n",
              "      <th>Age</th>\n",
              "      <th>SibSp</th>\n",
              "      <th>Parch</th>\n",
              "      <th>Ticket</th>\n",
              "      <th>Fare</th>\n",
              "      <th>Cabin</th>\n",
              "      <th>Embarked</th>\n",
              "    </tr>\n",
              "  </thead>\n",
              "  <tbody>\n",
              "    <tr>\n",
              "      <th>0</th>\n",
              "      <td>892</td>\n",
              "      <td>3</td>\n",
              "      <td>Kelly, Mr. James</td>\n",
              "      <td>male</td>\n",
              "      <td>34.5</td>\n",
              "      <td>0</td>\n",
              "      <td>0</td>\n",
              "      <td>330911</td>\n",
              "      <td>7.8292</td>\n",
              "      <td>NaN</td>\n",
              "      <td>Q</td>\n",
              "    </tr>\n",
              "    <tr>\n",
              "      <th>1</th>\n",
              "      <td>893</td>\n",
              "      <td>3</td>\n",
              "      <td>Wilkes, Mrs. James (Ellen Needs)</td>\n",
              "      <td>female</td>\n",
              "      <td>47.0</td>\n",
              "      <td>1</td>\n",
              "      <td>0</td>\n",
              "      <td>363272</td>\n",
              "      <td>7.0000</td>\n",
              "      <td>NaN</td>\n",
              "      <td>S</td>\n",
              "    </tr>\n",
              "    <tr>\n",
              "      <th>2</th>\n",
              "      <td>894</td>\n",
              "      <td>2</td>\n",
              "      <td>Myles, Mr. Thomas Francis</td>\n",
              "      <td>male</td>\n",
              "      <td>62.0</td>\n",
              "      <td>0</td>\n",
              "      <td>0</td>\n",
              "      <td>240276</td>\n",
              "      <td>9.6875</td>\n",
              "      <td>NaN</td>\n",
              "      <td>Q</td>\n",
              "    </tr>\n",
              "    <tr>\n",
              "      <th>3</th>\n",
              "      <td>895</td>\n",
              "      <td>3</td>\n",
              "      <td>Wirz, Mr. Albert</td>\n",
              "      <td>male</td>\n",
              "      <td>27.0</td>\n",
              "      <td>0</td>\n",
              "      <td>0</td>\n",
              "      <td>315154</td>\n",
              "      <td>8.6625</td>\n",
              "      <td>NaN</td>\n",
              "      <td>S</td>\n",
              "    </tr>\n",
              "  </tbody>\n",
              "</table>\n",
              "</div>\n",
              "      <button class=\"colab-df-convert\" onclick=\"convertToInteractive('df-33499ea7-1df9-4fd4-8b50-a2640038a1fa')\"\n",
              "              title=\"Convert this dataframe to an interactive table.\"\n",
              "              style=\"display:none;\">\n",
              "        \n",
              "  <svg xmlns=\"http://www.w3.org/2000/svg\" height=\"24px\"viewBox=\"0 0 24 24\"\n",
              "       width=\"24px\">\n",
              "    <path d=\"M0 0h24v24H0V0z\" fill=\"none\"/>\n",
              "    <path d=\"M18.56 5.44l.94 2.06.94-2.06 2.06-.94-2.06-.94-.94-2.06-.94 2.06-2.06.94zm-11 1L8.5 8.5l.94-2.06 2.06-.94-2.06-.94L8.5 2.5l-.94 2.06-2.06.94zm10 10l.94 2.06.94-2.06 2.06-.94-2.06-.94-.94-2.06-.94 2.06-2.06.94z\"/><path d=\"M17.41 7.96l-1.37-1.37c-.4-.4-.92-.59-1.43-.59-.52 0-1.04.2-1.43.59L10.3 9.45l-7.72 7.72c-.78.78-.78 2.05 0 2.83L4 21.41c.39.39.9.59 1.41.59.51 0 1.02-.2 1.41-.59l7.78-7.78 2.81-2.81c.8-.78.8-2.07 0-2.86zM5.41 20L4 18.59l7.72-7.72 1.47 1.35L5.41 20z\"/>\n",
              "  </svg>\n",
              "      </button>\n",
              "      \n",
              "  <style>\n",
              "    .colab-df-container {\n",
              "      display:flex;\n",
              "      flex-wrap:wrap;\n",
              "      gap: 12px;\n",
              "    }\n",
              "\n",
              "    .colab-df-convert {\n",
              "      background-color: #E8F0FE;\n",
              "      border: none;\n",
              "      border-radius: 50%;\n",
              "      cursor: pointer;\n",
              "      display: none;\n",
              "      fill: #1967D2;\n",
              "      height: 32px;\n",
              "      padding: 0 0 0 0;\n",
              "      width: 32px;\n",
              "    }\n",
              "\n",
              "    .colab-df-convert:hover {\n",
              "      background-color: #E2EBFA;\n",
              "      box-shadow: 0px 1px 2px rgba(60, 64, 67, 0.3), 0px 1px 3px 1px rgba(60, 64, 67, 0.15);\n",
              "      fill: #174EA6;\n",
              "    }\n",
              "\n",
              "    [theme=dark] .colab-df-convert {\n",
              "      background-color: #3B4455;\n",
              "      fill: #D2E3FC;\n",
              "    }\n",
              "\n",
              "    [theme=dark] .colab-df-convert:hover {\n",
              "      background-color: #434B5C;\n",
              "      box-shadow: 0px 1px 3px 1px rgba(0, 0, 0, 0.15);\n",
              "      filter: drop-shadow(0px 1px 2px rgba(0, 0, 0, 0.3));\n",
              "      fill: #FFFFFF;\n",
              "    }\n",
              "  </style>\n",
              "\n",
              "      <script>\n",
              "        const buttonEl =\n",
              "          document.querySelector('#df-33499ea7-1df9-4fd4-8b50-a2640038a1fa button.colab-df-convert');\n",
              "        buttonEl.style.display =\n",
              "          google.colab.kernel.accessAllowed ? 'block' : 'none';\n",
              "\n",
              "        async function convertToInteractive(key) {\n",
              "          const element = document.querySelector('#df-33499ea7-1df9-4fd4-8b50-a2640038a1fa');\n",
              "          const dataTable =\n",
              "            await google.colab.kernel.invokeFunction('convertToInteractive',\n",
              "                                                     [key], {});\n",
              "          if (!dataTable) return;\n",
              "\n",
              "          const docLinkHtml = 'Like what you see? Visit the ' +\n",
              "            '<a target=\"_blank\" href=https://colab.research.google.com/notebooks/data_table.ipynb>data table notebook</a>'\n",
              "            + ' to learn more about interactive tables.';\n",
              "          element.innerHTML = '';\n",
              "          dataTable['output_type'] = 'display_data';\n",
              "          await google.colab.output.renderOutput(dataTable, element);\n",
              "          const docLink = document.createElement('div');\n",
              "          docLink.innerHTML = docLinkHtml;\n",
              "          element.appendChild(docLink);\n",
              "        }\n",
              "      </script>\n",
              "    </div>\n",
              "  </div>\n",
              "  "
            ]
          },
          "metadata": {},
          "execution_count": 76
        }
      ],
      "source": [
        "# select row 0\n",
        "print(tdat.iloc[0])\n",
        "\n",
        "print()\n",
        "# select some given rows, 0 and 2\n",
        "print(tdat.iloc[[0, 2]])\n",
        "\n",
        "# select rows: 0 to 3\n",
        "print()\n",
        "tdat.iloc[:4]"
      ]
    },
    {
      "cell_type": "code",
      "execution_count": null,
      "metadata": {
        "id": "wDUnJuP5g-EU",
        "outputId": "c36de503-575b-4f19-8ef9-d0fc09743edc",
        "colab": {
          "base_uri": "https://localhost:8080/"
        }
      },
      "outputs": [
        {
          "output_type": "execute_result",
          "data": {
            "text/plain": [
              "0                    Kelly, Mr. James\n",
              "1    Wilkes, Mrs. James (Ellen Needs)\n",
              "2           Myles, Mr. Thomas Francis\n",
              "3                    Wirz, Mr. Albert\n",
              "Name: Name, dtype: object"
            ]
          },
          "metadata": {},
          "execution_count": 77
        }
      ],
      "source": [
        "# access some specific columns and then rows\n",
        "tdat['Name'][:4]"
      ]
    },
    {
      "cell_type": "code",
      "execution_count": null,
      "metadata": {
        "id": "1rPvv5Obg-EU",
        "outputId": "84c3573b-fbb3-446a-96c9-7532bd33e10d",
        "colab": {
          "base_uri": "https://localhost:8080/"
        }
      },
      "outputs": [
        {
          "output_type": "stream",
          "name": "stdout",
          "text": [
            "                               Name     Sex\n",
            "0                  Kelly, Mr. James    male\n",
            "1  Wilkes, Mrs. James (Ellen Needs)  female\n",
            "2         Myles, Mr. Thomas Francis    male\n",
            "3                  Wirz, Mr. Albert    male\n",
            "\n",
            "Name    Myles, Mr. Thomas Francis\n",
            "Sex                          male\n",
            "Name: 2, dtype: object\n"
          ]
        }
      ],
      "source": [
        "# pd.set_option('display.max_rows', None)  # show all rows\n",
        "\n",
        "# select column \"Name\" and use all rows\n",
        "print(tdat[['Name', 'Sex']][:4])\n",
        "\n",
        "print()\n",
        "print(tdat[['Name', 'Sex']].iloc[2])  # Note: we cannot use tdat[['Name', 'Sex']][2]"
      ]
    },
    {
      "cell_type": "code",
      "source": [
        "# let's transpose the data frame\n",
        "print(tdat)\n",
        "\n",
        "td = tdat.transpose()\n",
        "\n",
        "print()\n",
        "print(\"After transpose, select column 2, and then row 'Name'\")\n",
        "td[2]['Name']"
      ],
      "metadata": {
        "colab": {
          "base_uri": "https://localhost:8080/",
          "height": 538
        },
        "id": "5iUuf51n4Mru",
        "outputId": "7021ec41-00f5-41de-eed1-a5b3292e3b2f"
      },
      "execution_count": null,
      "outputs": [
        {
          "output_type": "stream",
          "name": "stdout",
          "text": [
            "     PassengerId  Pclass                                          Name  \\\n",
            "0            892       3                              Kelly, Mr. James   \n",
            "1            893       3              Wilkes, Mrs. James (Ellen Needs)   \n",
            "2            894       2                     Myles, Mr. Thomas Francis   \n",
            "3            895       3                              Wirz, Mr. Albert   \n",
            "4            896       3  Hirvonen, Mrs. Alexander (Helga E Lindqvist)   \n",
            "..           ...     ...                                           ...   \n",
            "413         1305       3                            Spector, Mr. Woolf   \n",
            "414         1306       1                  Oliva y Ocana, Dona. Fermina   \n",
            "415         1307       3                  Saether, Mr. Simon Sivertsen   \n",
            "416         1308       3                           Ware, Mr. Frederick   \n",
            "417         1309       3                      Peter, Master. Michael J   \n",
            "\n",
            "        Sex   Age  SibSp  Parch              Ticket      Fare Cabin Embarked  \n",
            "0      male  34.5      0      0              330911    7.8292   NaN        Q  \n",
            "1    female  47.0      1      0              363272    7.0000   NaN        S  \n",
            "2      male  62.0      0      0              240276    9.6875   NaN        Q  \n",
            "3      male  27.0      0      0              315154    8.6625   NaN        S  \n",
            "4    female  22.0      1      1             3101298   12.2875   NaN        S  \n",
            "..      ...   ...    ...    ...                 ...       ...   ...      ...  \n",
            "413    male   NaN      0      0           A.5. 3236    8.0500   NaN        S  \n",
            "414  female  39.0      0      0            PC 17758  108.9000  C105        C  \n",
            "415    male  38.5      0      0  SOTON/O.Q. 3101262    7.2500   NaN        S  \n",
            "416    male   NaN      0      0              359309    8.0500   NaN        S  \n",
            "417    male   NaN      1      1                2668   22.3583   NaN        C  \n",
            "\n",
            "[418 rows x 11 columns]\n",
            "\n",
            "After transpose, select column 2, and then row 'Name'\n"
          ]
        },
        {
          "output_type": "execute_result",
          "data": {
            "text/plain": [
              "'Myles, Mr. Thomas Francis'"
            ],
            "application/vnd.google.colaboratory.intrinsic+json": {
              "type": "string"
            }
          },
          "metadata": {},
          "execution_count": 79
        }
      ]
    },
    {
      "cell_type": "markdown",
      "source": [
        "Simple Matplotlib"
      ],
      "metadata": {
        "id": "8q1gy7QJ6kL7"
      }
    },
    {
      "cell_type": "code",
      "execution_count": null,
      "metadata": {
        "id": "xG43AZgVg-EV",
        "outputId": "ebec42a8-fc8e-470e-bdba-42552c500a7f",
        "colab": {
          "base_uri": "https://localhost:8080/",
          "height": 282
        }
      },
      "outputs": [
        {
          "output_type": "execute_result",
          "data": {
            "text/plain": [
              "[<matplotlib.lines.Line2D at 0x7fa1506d86a0>]"
            ]
          },
          "metadata": {},
          "execution_count": 80
        },
        {
          "output_type": "display_data",
          "data": {
            "text/plain": [
              "<Figure size 432x288 with 1 Axes>"
            ],
            "image/png": "[encoded data removed]"
          },
          "metadata": {
            "needs_background": "light"
          }
        }
      ],
      "source": [
        "import matplotlib.pyplot as plt\n",
        "\n",
        "x = [1,5,9,11]\n",
        "y = [20, 5, 9, 20]\n",
        "plt.plot(x,y)"
      ]
    },
    {
      "cell_type": "code",
      "execution_count": null,
      "metadata": {
        "id": "SoD5O-s0g-EV",
        "outputId": "43d23ccc-559e-4bb0-f8ed-c91f9d010a04",
        "colab": {
          "base_uri": "https://localhost:8080/"
        }
      },
      "outputs": [
        {
          "output_type": "stream",
          "name": "stdout",
          "text": [
            "     PassengerId  Pclass                                          Name  \\\n",
            "0            892       3                              Kelly, Mr. James   \n",
            "1            893       3              Wilkes, Mrs. James (Ellen Needs)   \n",
            "2            894       2                     Myles, Mr. Thomas Francis   \n",
            "3            895       3                              Wirz, Mr. Albert   \n",
            "4            896       3  Hirvonen, Mrs. Alexander (Helga E Lindqvist)   \n",
            "..           ...     ...                                           ...   \n",
            "413         1305       3                            Spector, Mr. Woolf   \n",
            "414         1306       1                  Oliva y Ocana, Dona. Fermina   \n",
            "415         1307       3                  Saether, Mr. Simon Sivertsen   \n",
            "416         1308       3                           Ware, Mr. Frederick   \n",
            "417         1309       3                      Peter, Master. Michael J   \n",
            "\n",
            "        Sex   Age  SibSp  Parch              Ticket      Fare Cabin Embarked  \n",
            "0      male  34.5      0      0              330911    7.8292   NaN        Q  \n",
            "1    female  47.0      1      0              363272    7.0000   NaN        S  \n",
            "2      male  62.0      0      0              240276    9.6875   NaN        Q  \n",
            "3      male  27.0      0      0              315154    8.6625   NaN        S  \n",
            "4    female  22.0      1      1             3101298   12.2875   NaN        S  \n",
            "..      ...   ...    ...    ...                 ...       ...   ...      ...  \n",
            "413    male   NaN      0      0           A.5. 3236    8.0500   NaN        S  \n",
            "414  female  39.0      0      0            PC 17758  108.9000  C105        C  \n",
            "415    male  38.5      0      0  SOTON/O.Q. 3101262    7.2500   NaN        S  \n",
            "416    male   NaN      0      0              359309    8.0500   NaN        S  \n",
            "417    male   NaN      1      1                2668   22.3583   NaN        C  \n",
            "\n",
            "[418 rows x 11 columns]\n",
            "\n",
            "Age: \n"
          ]
        },
        {
          "output_type": "execute_result",
          "data": {
            "text/plain": [
              "0      34.5\n",
              "1      47.0\n",
              "2      62.0\n",
              "3      27.0\n",
              "4      22.0\n",
              "       ... \n",
              "413     NaN\n",
              "414    39.0\n",
              "415    38.5\n",
              "416     NaN\n",
              "417     NaN\n",
              "Name: Age, Length: 418, dtype: float64"
            ]
          },
          "metadata": {},
          "execution_count": 81
        }
      ],
      "source": [
        "print(tdat)\n",
        "print()\n",
        "\n",
        "# select just column Age\n",
        "print(\"Age: \")\n",
        "age = tdat['Age']\n",
        "age[:]"
      ]
    },
    {
      "cell_type": "code",
      "execution_count": null,
      "metadata": {
        "id": "O-Hu28PNg-EW",
        "outputId": "b326b95c-8f8f-4ab7-f2e2-f8126e54b35b",
        "colab": {
          "base_uri": "https://localhost:8080/",
          "height": 1000
        }
      },
      "outputs": [
        {
          "output_type": "stream",
          "name": "stdout",
          "text": [
            "Total number of Non-NaN =  332\n",
            "Total number of NaN =  86\n",
            "[ 0.17  0.33  0.75  0.83  0.92  1.    1.    1.    2.    2.    3.    5.\n",
            "  6.    6.    6.    7.    8.    8.    9.    9.   10.   10.   11.5  12.\n",
            " 12.   13.   13.   13.   14.   14.   14.5  15.   16.   16.   17.   17.\n",
            " 17.   17.   17.   17.   17.   18.   18.   18.   18.   18.   18.   18.\n",
            " 18.   18.   18.   18.   18.   18.   18.5  18.5  18.5  19.   19.   19.\n",
            " 19.   20.   20.   20.   20.   20.   20.   20.   20.   21.   21.   21.\n",
            " 21.   21.   21.   21.   21.   21.   21.   21.   21.   21.   21.   21.\n",
            " 21.   21.   22.   22.   22.   22.   22.   22.   22.   22.   22.   22.\n",
            " 22.   22.   22.   22.   22.   22.   22.5  23.   23.   23.   23.   23.\n",
            " 23.   23.   23.   23.   23.   23.   24.   24.   24.   24.   24.   24.\n",
            " 24.   24.   24.   24.   24.   24.   24.   24.   24.   24.   24.   25.\n",
            " 25.   25.   25.   25.   25.   25.   25.   25.   25.   25.   26.   26.\n",
            " 26.   26.   26.   26.   26.   26.   26.   26.   26.   26.   26.5  27.\n",
            " 27.   27.   27.   27.   27.   27.   27.   27.   27.   27.   27.   28.\n",
            " 28.   28.   28.   28.   28.   28.   28.5  29.   29.   29.   29.   29.\n",
            " 29.   29.   29.   29.   29.   30.   30.   30.   30.   30.   30.   30.\n",
            " 30.   30.   30.   30.   30.   30.   30.   30.   31.   31.   31.   31.\n",
            " 31.   31.   32.   32.   32.   32.   32.   32.   32.5  32.5  33.   33.\n",
            " 33.   33.   33.   33.   34.   34.5  35.   35.   35.   35.   35.   36.\n",
            " 36.   36.   36.   36.   36.   36.   36.   36.   36.5  37.   37.   37.\n",
            " 38.   38.   38.   38.5  39.   39.   39.   39.   39.   39.   40.   40.\n",
            " 40.   40.   40.   40.5  41.   41.   41.   41.   41.   42.   42.   42.\n",
            " 42.   42.   43.   43.   43.   43.   44.   45.   45.   45.   45.   45.\n",
            " 45.   45.   45.   45.   46.   46.   46.   47.   47.   47.   47.   47.\n",
            " 48.   48.   48.   48.   48.   49.   49.   49.   50.   50.   50.   50.\n",
            " 50.   51.   53.   53.   53.   54.   54.   55.   55.   55.   55.   55.\n",
            " 55.   57.   57.   57.   58.   59.   60.   60.   60.   60.5  61.   61.\n",
            " 62.   63.   63.   64.   64.   64.   67.   76.     nan   nan   nan   nan\n",
            "   nan   nan   nan   nan   nan   nan   nan   nan   nan   nan   nan   nan\n",
            "   nan   nan   nan   nan   nan   nan   nan   nan   nan   nan   nan   nan\n",
            "   nan   nan   nan   nan   nan   nan   nan   nan   nan   nan   nan   nan\n",
            "   nan   nan   nan   nan   nan   nan   nan   nan   nan   nan   nan   nan\n",
            "   nan   nan   nan   nan   nan   nan   nan   nan   nan   nan   nan   nan\n",
            "   nan   nan   nan   nan   nan   nan   nan   nan   nan   nan   nan   nan\n",
            "   nan   nan   nan   nan   nan   nan   nan   nan   nan   nan]\n",
            "332\n",
            "\n"
          ]
        },
        {
          "output_type": "execute_result",
          "data": {
            "text/plain": [
              "(array([16., 16., 71., 97., 43., 37., 25., 17.,  9.,  1.]),\n",
              " array([ 0.17 ,  7.753, 15.336, 22.919, 30.502, 38.085, 45.668, 53.251,\n",
              "        60.834, 68.417, 76.   ]),\n",
              " <BarContainer object of 10 artists>)"
            ]
          },
          "metadata": {},
          "execution_count": 82
        },
        {
          "output_type": "display_data",
          "data": {
            "text/plain": [
              "<Figure size 432x288 with 1 Axes>"
            ],
            "image/png": "[encoded data removed]"
          },
          "metadata": {
            "needs_background": "light"
          }
        }
      ],
      "source": [
        "n_num = np.count_nonzero(~np.isnan(age))\n",
        "print(\"Total number of Non-NaN = \", n_num)\n",
        "n_nan = np.count_nonzero(np.isnan(age))\n",
        "print(\"Total number of NaN = \", n_nan)\n",
        "\n",
        "print(np.sort(age))  # or use age.sort_values()\n",
        "age = tdat['Age'].dropna() # throw out the NaN\n",
        "print(len(age))\n",
        "print()\n",
        "plt.hist(age)"
      ]
    },
    {
      "cell_type": "code",
      "execution_count": null,
      "metadata": {
        "id": "roNLVkjzg-EW",
        "outputId": "1470fd19-fbcb-4034-fdd9-62ced0b0a88c",
        "colab": {
          "base_uri": "https://localhost:8080/",
          "height": 404
        }
      },
      "outputs": [
        {
          "output_type": "execute_result",
          "data": {
            "text/plain": [
              "{'whiskers': [<matplotlib.lines.Line2D at 0x7fa15087da30>,\n",
              "  <matplotlib.lines.Line2D at 0x7fa15087dcd0>],\n",
              " 'caps': [<matplotlib.lines.Line2D at 0x7fa15087df70>,\n",
              "  <matplotlib.lines.Line2D at 0x7fa15088f250>],\n",
              " 'boxes': [<matplotlib.lines.Line2D at 0x7fa15087d790>],\n",
              " 'medians': [<matplotlib.lines.Line2D at 0x7fa15088f4f0>],\n",
              " 'fliers': [<matplotlib.lines.Line2D at 0x7fa15088f790>],\n",
              " 'means': []}"
            ]
          },
          "metadata": {},
          "execution_count": 83
        },
        {
          "output_type": "display_data",
          "data": {
            "text/plain": [
              "<Figure size 432x288 with 1 Axes>"
            ],
            "image/png": "[encoded data removed]"
          },
          "metadata": {
            "needs_background": "light"
          }
        }
      ],
      "source": [
        "plt.boxplot(age)"
      ]
    },
    {
      "cell_type": "code",
      "execution_count": null,
      "metadata": {
        "id": "9Qry7pMpg-EW",
        "outputId": "82f0f739-8ba7-497a-f31a-224d09bee3db",
        "colab": {
          "base_uri": "https://localhost:8080/"
        }
      },
      "outputs": [
        {
          "output_type": "stream",
          "name": "stdout",
          "text": [
            "max =  76.0\n",
            "min =  0.17\n",
            "mean =  30.272590361445783\n",
            "SD =  14.181209235624422\n",
            "\n",
            "Frequency counts: \n"
          ]
        },
        {
          "output_type": "execute_result",
          "data": {
            "text/plain": [
              "21.0    17\n",
              "24.0    17\n",
              "22.0    16\n",
              "30.0    15\n",
              "18.0    13\n",
              "        ..\n",
              "76.0     1\n",
              "28.5     1\n",
              "22.5     1\n",
              "62.0     1\n",
              "38.5     1\n",
              "Name: Age, Length: 79, dtype: int64"
            ]
          },
          "metadata": {},
          "execution_count": 84
        }
      ],
      "source": [
        "print(\"max = \", age.max())\n",
        "print(\"min = \", age.min())\n",
        "print(\"mean = \", age.mean())\n",
        "print(\"SD = \", age.std())\n",
        "\n",
        "# pd.set_option('display.max_rows', None) # show some given number of rows; None to show all\n",
        "print(\"\\nFrequency counts: \")\n",
        "age.value_counts()  # show a frequency count\n"
      ]
    },
    {
      "cell_type": "code",
      "source": [
        "# another way to sort some values\n",
        "print(age.sort_values(ascending = True))\n",
        "print()\n",
        "age.sort_values(ascending = False)\n",
        "\n",
        "# Done!"
      ],
      "metadata": {
        "colab": {
          "base_uri": "https://localhost:8080/"
        },
        "id": "SjEj2u8D58VJ",
        "outputId": "a0eeecbd-c54a-4267-b005-6a71d0e79d4e"
      },
      "execution_count": null,
      "outputs": [
        {
          "output_type": "stream",
          "name": "stdout",
          "text": [
            "354     0.17\n",
            "201     0.33\n",
            "281     0.75\n",
            "307     0.83\n",
            "250     0.92\n",
            "       ...  \n",
            "179    64.00\n",
            "236    64.00\n",
            "305    64.00\n",
            "81     67.00\n",
            "96     76.00\n",
            "Name: Age, Length: 332, dtype: float64\n",
            "\n"
          ]
        },
        {
          "output_type": "execute_result",
          "data": {
            "text/plain": [
              "96     76.00\n",
              "81     67.00\n",
              "236    64.00\n",
              "305    64.00\n",
              "179    64.00\n",
              "       ...  \n",
              "250     0.92\n",
              "307     0.83\n",
              "281     0.75\n",
              "201     0.33\n",
              "354     0.17\n",
              "Name: Age, Length: 332, dtype: float64"
            ]
          },
          "metadata": {},
          "execution_count": 85
        }
      ]
    }
  ],
  "metadata": {
    "kernelspec": {
      "display_name": "Python 3",
      "language": "python",
      "name": "python3"
    },
    "language_info": {
      "codemirror_mode": {
        "name": "ipython",
        "version": 3
      },
      "file_extension": ".py",
      "mimetype": "text/x-python",
      "name": "python",
      "nbconvert_exporter": "python",
      "pygments_lexer": "ipython3",
      "version": "3.7.4"
    },
    "colab": {
      "provenance": []
    }
  },
  "nbformat": 4,
  "nbformat_minor": 0
}